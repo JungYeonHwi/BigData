{
 "cells": [
  {
   "cell_type": "code",
   "execution_count": 2,
   "id": "ed8cd5c2",
   "metadata": {},
   "outputs": [],
   "source": [
    "import numpy as np\n",
    "import pandas as pd"
   ]
  },
  {
   "cell_type": "code",
   "execution_count": 3,
   "id": "a620c67f",
   "metadata": {},
   "outputs": [
    {
     "name": "stdout",
     "output_type": "stream",
     "text": [
      "        연번    업종명         업소명                     소     재     지  \\\n",
      "0        1  일반음식점     삼미투가리백숙           청주시 흥덕구 예체로 157-1 (봉명동)   \n",
      "1        2  일반음식점        흥부찜닭             청주시 흥덕구 성봉로 291 (복대동)   \n",
      "2        3  일반음식점        신토불이              청주시 흥덕구 천석로 73 (봉명동)   \n",
      "3        4  일반음식점       정원보양촌             청주시 흥덕구 비하로 7-1 (비하동)   \n",
      "4        5  일반음식점          머슴             청주시 흥덕구 사운로 240 (운천동)   \n",
      "...    ...    ...         ...                               ...   \n",
      "3455  3456  일반음식점       수자네포차     청주시 흥덕구 흥덕로161번길 12 (운천동  1층)   \n",
      "3456  3457  일반음식점  카툰앤북카페 아지트     청주시 흥덕구 대농로 70  3층 301호 (복대동)   \n",
      "3457  3458  일반음식점    캠토청주충북대점      청주시 흥덕구 내수동로34번길 4  1층 (복대동)   \n",
      "3458  3459  일반음식점        교촌치킨           청주시 흥덕구 충대로 5  1층 (복대동)   \n",
      "3459  3460  일반음식점         피자퀸   청주시 흥덕구 직지대로753번길 24 (운천동 (1층))   \n",
      "\n",
      "                전화번호  \n",
      "0                NaN  \n",
      "1                NaN  \n",
      "2                NaN  \n",
      "3                NaN  \n",
      "4                NaN  \n",
      "...              ...  \n",
      "3455  070 -8285-0062  \n",
      "3456  070 -8654-4139  \n",
      "3457  070 -8811-1217  \n",
      "3458  073 -273 -9989  \n",
      "3459    043-264-6060  \n",
      "\n",
      "[3460 rows x 5 columns]\n"
     ]
    }
   ],
   "source": [
    "import os\n",
    "restaurants = pd.read_csv(\"C:/Users/wjddu/git/BIgData/Find_DataSet/The current status of restaurants in Cheongju/The current status of restaurants in Cheongju.csv\")\n",
    "print(restaurants)"
   ]
  },
  {
   "cell_type": "code",
   "execution_count": 5,
   "id": "ff481513",
   "metadata": {},
   "outputs": [
    {
     "data": {
      "text/html": [
       "<div>\n",
       "<style scoped>\n",
       "    .dataframe tbody tr th:only-of-type {\n",
       "        vertical-align: middle;\n",
       "    }\n",
       "\n",
       "    .dataframe tbody tr th {\n",
       "        vertical-align: top;\n",
       "    }\n",
       "\n",
       "    .dataframe thead th {\n",
       "        text-align: right;\n",
       "    }\n",
       "</style>\n",
       "<table border=\"1\" class=\"dataframe\">\n",
       "  <thead>\n",
       "    <tr style=\"text-align: right;\">\n",
       "      <th></th>\n",
       "      <th>연번</th>\n",
       "      <th>업종명</th>\n",
       "      <th>업소명</th>\n",
       "      <th>소     재     지</th>\n",
       "      <th>전화번호</th>\n",
       "    </tr>\n",
       "  </thead>\n",
       "  <tbody>\n",
       "    <tr>\n",
       "      <th>0</th>\n",
       "      <td>1</td>\n",
       "      <td>일반음식점</td>\n",
       "      <td>삼미투가리백숙</td>\n",
       "      <td>청주시 흥덕구 예체로 157-1 (봉명동)</td>\n",
       "      <td>NaN</td>\n",
       "    </tr>\n",
       "    <tr>\n",
       "      <th>1</th>\n",
       "      <td>2</td>\n",
       "      <td>일반음식점</td>\n",
       "      <td>흥부찜닭</td>\n",
       "      <td>청주시 흥덕구 성봉로 291 (복대동)</td>\n",
       "      <td>NaN</td>\n",
       "    </tr>\n",
       "    <tr>\n",
       "      <th>2</th>\n",
       "      <td>3</td>\n",
       "      <td>일반음식점</td>\n",
       "      <td>신토불이</td>\n",
       "      <td>청주시 흥덕구 천석로 73 (봉명동)</td>\n",
       "      <td>NaN</td>\n",
       "    </tr>\n",
       "    <tr>\n",
       "      <th>3</th>\n",
       "      <td>4</td>\n",
       "      <td>일반음식점</td>\n",
       "      <td>정원보양촌</td>\n",
       "      <td>청주시 흥덕구 비하로 7-1 (비하동)</td>\n",
       "      <td>NaN</td>\n",
       "    </tr>\n",
       "    <tr>\n",
       "      <th>4</th>\n",
       "      <td>5</td>\n",
       "      <td>일반음식점</td>\n",
       "      <td>머슴</td>\n",
       "      <td>청주시 흥덕구 사운로 240 (운천동)</td>\n",
       "      <td>NaN</td>\n",
       "    </tr>\n",
       "  </tbody>\n",
       "</table>\n",
       "</div>"
      ],
      "text/plain": [
       "   연번    업종명      업소명             소     재     지 전화번호\n",
       "0   1  일반음식점  삼미투가리백숙   청주시 흥덕구 예체로 157-1 (봉명동)  NaN\n",
       "1   2  일반음식점     흥부찜닭     청주시 흥덕구 성봉로 291 (복대동)  NaN\n",
       "2   3  일반음식점     신토불이      청주시 흥덕구 천석로 73 (봉명동)  NaN\n",
       "3   4  일반음식점    정원보양촌     청주시 흥덕구 비하로 7-1 (비하동)  NaN\n",
       "4   5  일반음식점       머슴     청주시 흥덕구 사운로 240 (운천동)  NaN"
      ]
     },
     "execution_count": 5,
     "metadata": {},
     "output_type": "execute_result"
    }
   ],
   "source": [
    "restaurants.head()"
   ]
  },
  {
   "cell_type": "code",
   "execution_count": 6,
   "id": "fe3f1c02",
   "metadata": {},
   "outputs": [
    {
     "data": {
      "text/html": [
       "<div>\n",
       "<style scoped>\n",
       "    .dataframe tbody tr th:only-of-type {\n",
       "        vertical-align: middle;\n",
       "    }\n",
       "\n",
       "    .dataframe tbody tr th {\n",
       "        vertical-align: top;\n",
       "    }\n",
       "\n",
       "    .dataframe thead th {\n",
       "        text-align: right;\n",
       "    }\n",
       "</style>\n",
       "<table border=\"1\" class=\"dataframe\">\n",
       "  <thead>\n",
       "    <tr style=\"text-align: right;\">\n",
       "      <th></th>\n",
       "      <th>연번</th>\n",
       "      <th>업종명</th>\n",
       "      <th>업소명</th>\n",
       "      <th>소     재     지</th>\n",
       "      <th>전화번호</th>\n",
       "    </tr>\n",
       "  </thead>\n",
       "  <tbody>\n",
       "    <tr>\n",
       "      <th>3455</th>\n",
       "      <td>3456</td>\n",
       "      <td>일반음식점</td>\n",
       "      <td>수자네포차</td>\n",
       "      <td>청주시 흥덕구 흥덕로161번길 12 (운천동  1층)</td>\n",
       "      <td>070 -8285-0062</td>\n",
       "    </tr>\n",
       "    <tr>\n",
       "      <th>3456</th>\n",
       "      <td>3457</td>\n",
       "      <td>일반음식점</td>\n",
       "      <td>카툰앤북카페 아지트</td>\n",
       "      <td>청주시 흥덕구 대농로 70  3층 301호 (복대동)</td>\n",
       "      <td>070 -8654-4139</td>\n",
       "    </tr>\n",
       "    <tr>\n",
       "      <th>3457</th>\n",
       "      <td>3458</td>\n",
       "      <td>일반음식점</td>\n",
       "      <td>캠토청주충북대점</td>\n",
       "      <td>청주시 흥덕구 내수동로34번길 4  1층 (복대동)</td>\n",
       "      <td>070 -8811-1217</td>\n",
       "    </tr>\n",
       "    <tr>\n",
       "      <th>3458</th>\n",
       "      <td>3459</td>\n",
       "      <td>일반음식점</td>\n",
       "      <td>교촌치킨</td>\n",
       "      <td>청주시 흥덕구 충대로 5  1층 (복대동)</td>\n",
       "      <td>073 -273 -9989</td>\n",
       "    </tr>\n",
       "    <tr>\n",
       "      <th>3459</th>\n",
       "      <td>3460</td>\n",
       "      <td>일반음식점</td>\n",
       "      <td>피자퀸</td>\n",
       "      <td>청주시 흥덕구 직지대로753번길 24 (운천동 (1층))</td>\n",
       "      <td>043-264-6060</td>\n",
       "    </tr>\n",
       "  </tbody>\n",
       "</table>\n",
       "</div>"
      ],
      "text/plain": [
       "        연번    업종명         업소명                     소     재     지  \\\n",
       "3455  3456  일반음식점       수자네포차     청주시 흥덕구 흥덕로161번길 12 (운천동  1층)   \n",
       "3456  3457  일반음식점  카툰앤북카페 아지트     청주시 흥덕구 대농로 70  3층 301호 (복대동)   \n",
       "3457  3458  일반음식점    캠토청주충북대점      청주시 흥덕구 내수동로34번길 4  1층 (복대동)   \n",
       "3458  3459  일반음식점        교촌치킨           청주시 흥덕구 충대로 5  1층 (복대동)   \n",
       "3459  3460  일반음식점         피자퀸   청주시 흥덕구 직지대로753번길 24 (운천동 (1층))   \n",
       "\n",
       "                전화번호  \n",
       "3455  070 -8285-0062  \n",
       "3456  070 -8654-4139  \n",
       "3457  070 -8811-1217  \n",
       "3458  073 -273 -9989  \n",
       "3459    043-264-6060  "
      ]
     },
     "execution_count": 6,
     "metadata": {},
     "output_type": "execute_result"
    }
   ],
   "source": [
    "restaurants.tail()"
   ]
  },
  {
   "cell_type": "code",
   "execution_count": 7,
   "id": "1b62efc5",
   "metadata": {},
   "outputs": [
    {
     "name": "stdout",
     "output_type": "stream",
     "text": [
      "<class 'pandas.core.frame.DataFrame'>\n",
      "RangeIndex: 3460 entries, 0 to 3459\n",
      "Data columns (total 5 columns):\n",
      " #   Column         Non-Null Count  Dtype \n",
      "---  ------         --------------  ----- \n",
      " 0   연번             3460 non-null   int64 \n",
      " 1   업종명            3460 non-null   object\n",
      " 2   업소명            3460 non-null   object\n",
      " 3   소     재     지  3460 non-null   object\n",
      " 4   전화번호           2535 non-null   object\n",
      "dtypes: int64(1), object(4)\n",
      "memory usage: 135.3+ KB\n"
     ]
    }
   ],
   "source": [
    "restaurants.info()"
   ]
  },
  {
   "cell_type": "code",
   "execution_count": 8,
   "id": "09b7f6ce",
   "metadata": {},
   "outputs": [
    {
     "data": {
      "text/plain": [
       "(3460, 5)"
      ]
     },
     "execution_count": 8,
     "metadata": {},
     "output_type": "execute_result"
    }
   ],
   "source": [
    "restaurants.shape"
   ]
  },
  {
   "cell_type": "code",
   "execution_count": 9,
   "id": "859c34d5",
   "metadata": {},
   "outputs": [
    {
     "data": {
      "text/plain": [
       "Index(['연번', '업종명', '업소명', '소     재     지', '전화번호'], dtype='object')"
      ]
     },
     "execution_count": 9,
     "metadata": {},
     "output_type": "execute_result"
    }
   ],
   "source": [
    "restaurants.columns"
   ]
  },
  {
   "cell_type": "code",
   "execution_count": 10,
   "id": "67306f79",
   "metadata": {},
   "outputs": [
    {
     "data": {
      "text/html": [
       "<div>\n",
       "<style scoped>\n",
       "    .dataframe tbody tr th:only-of-type {\n",
       "        vertical-align: middle;\n",
       "    }\n",
       "\n",
       "    .dataframe tbody tr th {\n",
       "        vertical-align: top;\n",
       "    }\n",
       "\n",
       "    .dataframe thead th {\n",
       "        text-align: right;\n",
       "    }\n",
       "</style>\n",
       "<table border=\"1\" class=\"dataframe\">\n",
       "  <thead>\n",
       "    <tr style=\"text-align: right;\">\n",
       "      <th></th>\n",
       "      <th>연번</th>\n",
       "    </tr>\n",
       "  </thead>\n",
       "  <tbody>\n",
       "    <tr>\n",
       "      <th>count</th>\n",
       "      <td>3460.000000</td>\n",
       "    </tr>\n",
       "    <tr>\n",
       "      <th>mean</th>\n",
       "      <td>1730.500000</td>\n",
       "    </tr>\n",
       "    <tr>\n",
       "      <th>std</th>\n",
       "      <td>998.960293</td>\n",
       "    </tr>\n",
       "    <tr>\n",
       "      <th>min</th>\n",
       "      <td>1.000000</td>\n",
       "    </tr>\n",
       "    <tr>\n",
       "      <th>25%</th>\n",
       "      <td>865.750000</td>\n",
       "    </tr>\n",
       "    <tr>\n",
       "      <th>50%</th>\n",
       "      <td>1730.500000</td>\n",
       "    </tr>\n",
       "    <tr>\n",
       "      <th>75%</th>\n",
       "      <td>2595.250000</td>\n",
       "    </tr>\n",
       "    <tr>\n",
       "      <th>max</th>\n",
       "      <td>3460.000000</td>\n",
       "    </tr>\n",
       "  </tbody>\n",
       "</table>\n",
       "</div>"
      ],
      "text/plain": [
       "                연번\n",
       "count  3460.000000\n",
       "mean   1730.500000\n",
       "std     998.960293\n",
       "min       1.000000\n",
       "25%     865.750000\n",
       "50%    1730.500000\n",
       "75%    2595.250000\n",
       "max    3460.000000"
      ]
     },
     "execution_count": 10,
     "metadata": {},
     "output_type": "execute_result"
    }
   ],
   "source": [
    "restaurants.describe()"
   ]
  },
  {
   "cell_type": "code",
   "execution_count": 21,
   "id": "8b7321d8",
   "metadata": {},
   "outputs": [
    {
     "data": {
      "text/html": [
       "<div>\n",
       "<style scoped>\n",
       "    .dataframe tbody tr th:only-of-type {\n",
       "        vertical-align: middle;\n",
       "    }\n",
       "\n",
       "    .dataframe tbody tr th {\n",
       "        vertical-align: top;\n",
       "    }\n",
       "\n",
       "    .dataframe thead th {\n",
       "        text-align: right;\n",
       "    }\n",
       "</style>\n",
       "<table border=\"1\" class=\"dataframe\">\n",
       "  <thead>\n",
       "    <tr style=\"text-align: right;\">\n",
       "      <th></th>\n",
       "      <th>연번</th>\n",
       "      <th>업종명</th>\n",
       "      <th>업소명</th>\n",
       "      <th>소     재     지</th>\n",
       "      <th>전화번호</th>\n",
       "    </tr>\n",
       "  </thead>\n",
       "  <tbody>\n",
       "  </tbody>\n",
       "</table>\n",
       "</div>"
      ],
      "text/plain": [
       "Empty DataFrame\n",
       "Columns: [연번, 업종명, 업소명, 소     재     지, 전화번호]\n",
       "Index: []"
      ]
     },
     "execution_count": 21,
     "metadata": {},
     "output_type": "execute_result"
    }
   ],
   "source": [
    " restaurants[restaurants['업종명'] != '일반음식점'].head(3)"
   ]
  },
  {
   "cell_type": "code",
   "execution_count": 19,
   "id": "ecee98f6",
   "metadata": {
    "scrolled": false
   },
   "outputs": [
    {
     "data": {
      "text/html": [
       "<div>\n",
       "<style scoped>\n",
       "    .dataframe tbody tr th:only-of-type {\n",
       "        vertical-align: middle;\n",
       "    }\n",
       "\n",
       "    .dataframe tbody tr th {\n",
       "        vertical-align: top;\n",
       "    }\n",
       "\n",
       "    .dataframe thead th {\n",
       "        text-align: right;\n",
       "    }\n",
       "</style>\n",
       "<table border=\"1\" class=\"dataframe\">\n",
       "  <thead>\n",
       "    <tr style=\"text-align: right;\">\n",
       "      <th></th>\n",
       "      <th>연번</th>\n",
       "      <th>업종명</th>\n",
       "      <th>업소명</th>\n",
       "      <th>소     재     지</th>\n",
       "    </tr>\n",
       "  </thead>\n",
       "  <tbody>\n",
       "    <tr>\n",
       "      <th>0</th>\n",
       "      <td>1</td>\n",
       "      <td>일반음식점</td>\n",
       "      <td>삼미투가리백숙</td>\n",
       "      <td>청주시 흥덕구 예체로 157-1 (봉명동)</td>\n",
       "    </tr>\n",
       "    <tr>\n",
       "      <th>1</th>\n",
       "      <td>2</td>\n",
       "      <td>일반음식점</td>\n",
       "      <td>흥부찜닭</td>\n",
       "      <td>청주시 흥덕구 성봉로 291 (복대동)</td>\n",
       "    </tr>\n",
       "    <tr>\n",
       "      <th>2</th>\n",
       "      <td>3</td>\n",
       "      <td>일반음식점</td>\n",
       "      <td>신토불이</td>\n",
       "      <td>청주시 흥덕구 천석로 73 (봉명동)</td>\n",
       "    </tr>\n",
       "    <tr>\n",
       "      <th>3</th>\n",
       "      <td>4</td>\n",
       "      <td>일반음식점</td>\n",
       "      <td>정원보양촌</td>\n",
       "      <td>청주시 흥덕구 비하로 7-1 (비하동)</td>\n",
       "    </tr>\n",
       "    <tr>\n",
       "      <th>4</th>\n",
       "      <td>5</td>\n",
       "      <td>일반음식점</td>\n",
       "      <td>머슴</td>\n",
       "      <td>청주시 흥덕구 사운로 240 (운천동)</td>\n",
       "    </tr>\n",
       "    <tr>\n",
       "      <th>...</th>\n",
       "      <td>...</td>\n",
       "      <td>...</td>\n",
       "      <td>...</td>\n",
       "      <td>...</td>\n",
       "    </tr>\n",
       "    <tr>\n",
       "      <th>3455</th>\n",
       "      <td>3456</td>\n",
       "      <td>일반음식점</td>\n",
       "      <td>수자네포차</td>\n",
       "      <td>청주시 흥덕구 흥덕로161번길 12 (운천동  1층)</td>\n",
       "    </tr>\n",
       "    <tr>\n",
       "      <th>3456</th>\n",
       "      <td>3457</td>\n",
       "      <td>일반음식점</td>\n",
       "      <td>카툰앤북카페 아지트</td>\n",
       "      <td>청주시 흥덕구 대농로 70  3층 301호 (복대동)</td>\n",
       "    </tr>\n",
       "    <tr>\n",
       "      <th>3457</th>\n",
       "      <td>3458</td>\n",
       "      <td>일반음식점</td>\n",
       "      <td>캠토청주충북대점</td>\n",
       "      <td>청주시 흥덕구 내수동로34번길 4  1층 (복대동)</td>\n",
       "    </tr>\n",
       "    <tr>\n",
       "      <th>3458</th>\n",
       "      <td>3459</td>\n",
       "      <td>일반음식점</td>\n",
       "      <td>교촌치킨</td>\n",
       "      <td>청주시 흥덕구 충대로 5  1층 (복대동)</td>\n",
       "    </tr>\n",
       "    <tr>\n",
       "      <th>3459</th>\n",
       "      <td>3460</td>\n",
       "      <td>일반음식점</td>\n",
       "      <td>피자퀸</td>\n",
       "      <td>청주시 흥덕구 직지대로753번길 24 (운천동 (1층))</td>\n",
       "    </tr>\n",
       "  </tbody>\n",
       "</table>\n",
       "<p>3460 rows × 4 columns</p>\n",
       "</div>"
      ],
      "text/plain": [
       "        연번    업종명         업소명                     소     재     지\n",
       "0        1  일반음식점     삼미투가리백숙           청주시 흥덕구 예체로 157-1 (봉명동)\n",
       "1        2  일반음식점        흥부찜닭             청주시 흥덕구 성봉로 291 (복대동)\n",
       "2        3  일반음식점        신토불이              청주시 흥덕구 천석로 73 (봉명동)\n",
       "3        4  일반음식점       정원보양촌             청주시 흥덕구 비하로 7-1 (비하동)\n",
       "4        5  일반음식점          머슴             청주시 흥덕구 사운로 240 (운천동)\n",
       "...    ...    ...         ...                               ...\n",
       "3455  3456  일반음식점       수자네포차     청주시 흥덕구 흥덕로161번길 12 (운천동  1층)\n",
       "3456  3457  일반음식점  카툰앤북카페 아지트     청주시 흥덕구 대농로 70  3층 301호 (복대동)\n",
       "3457  3458  일반음식점    캠토청주충북대점      청주시 흥덕구 내수동로34번길 4  1층 (복대동)\n",
       "3458  3459  일반음식점        교촌치킨           청주시 흥덕구 충대로 5  1층 (복대동)\n",
       "3459  3460  일반음식점         피자퀸   청주시 흥덕구 직지대로753번길 24 (운천동 (1층))\n",
       "\n",
       "[3460 rows x 4 columns]"
      ]
     },
     "execution_count": 19,
     "metadata": {},
     "output_type": "execute_result"
    }
   ],
   "source": [
    "restaurants.dropna(axis=1)"
   ]
  },
  {
   "cell_type": "code",
   "execution_count": 20,
   "id": "2cdf37e1",
   "metadata": {},
   "outputs": [
    {
     "data": {
      "text/plain": [
       "연번                 0\n",
       "업종명                0\n",
       "업소명                0\n",
       "소     재     지      0\n",
       "전화번호             925\n",
       "dtype: int64"
      ]
     },
     "execution_count": 20,
     "metadata": {},
     "output_type": "execute_result"
    }
   ],
   "source": [
    "restaurants.isnull().sum()"
   ]
  }
 ],
 "metadata": {
  "kernelspec": {
   "display_name": "Python 3",
   "language": "python",
   "name": "python3"
  },
  "language_info": {
   "codemirror_mode": {
    "name": "ipython",
    "version": 3
   },
   "file_extension": ".py",
   "mimetype": "text/x-python",
   "name": "python",
   "nbconvert_exporter": "python",
   "pygments_lexer": "ipython3",
   "version": "3.8.8"
  }
 },
 "nbformat": 4,
 "nbformat_minor": 5
}
