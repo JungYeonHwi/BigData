{
 "cells": [
  {
   "cell_type": "code",
   "execution_count": 1,
   "id": "ed8cd5c2",
   "metadata": {},
   "outputs": [],
   "source": [
    "import numpy as np\n",
    "import pandas as pd"
   ]
  },
  {
   "cell_type": "code",
   "execution_count": 6,
   "id": "a620c67f",
   "metadata": {},
   "outputs": [
    {
     "name": "stdout",
     "output_type": "stream",
     "text": [
      "                 Country Nominal_gdp_p_capita  PPP_gdp_p_capita  \\\n",
      "0            Afghanistan                  581            2390.0   \n",
      "1                Albania                 5287           14218.0   \n",
      "2                Algeria                 3263           11112.0   \n",
      "3                 Angola                 2012            6932.0   \n",
      "4    Antigua and Barbuda                14168           18618.0   \n",
      "..                   ...                  ...               ...   \n",
      "189              Vietnam                 3499           10869.0   \n",
      "190           Pallestine                 3042            5388.0   \n",
      "191                Yemen                  620            1927.0   \n",
      "192               Zambia                  981            3342.0   \n",
      "193             Zimbabwe                 1385            2622.0   \n",
      "\n",
      "     GDP_growth_percentage   Rise_fall_GDP  \n",
      "0                   -5.000     medium fall  \n",
      "1                   -3.500     medium fall  \n",
      "2                   -5.992     medium fall  \n",
      "3                   -3.975     medium fall  \n",
      "4                  -17.273  very high fall  \n",
      "..                     ...             ...  \n",
      "189                  2.906      short rise  \n",
      "190                -10.960       High fall  \n",
      "191                 -5.000     medium fall  \n",
      "192                 -3.497     medium fall  \n",
      "193                 -8.002       High fall  \n",
      "\n",
      "[194 rows x 5 columns]\n"
     ]
    }
   ],
   "source": [
    "import os\n",
    "GDP = pd.read_csv(\"C:/Users/wjddu/git/BIgData/Find_DataSet/Dataset of worldwide GDP during Covid Pandemic 2020/Dataset of worldwide GDP during Covid Pandemic 2020.csv\")\n",
    "print(GDP)"
   ]
  },
  {
   "cell_type": "code",
   "execution_count": 7,
   "id": "ff481513",
   "metadata": {},
   "outputs": [
    {
     "data": {
      "text/html": [
       "<div>\n",
       "<style scoped>\n",
       "    .dataframe tbody tr th:only-of-type {\n",
       "        vertical-align: middle;\n",
       "    }\n",
       "\n",
       "    .dataframe tbody tr th {\n",
       "        vertical-align: top;\n",
       "    }\n",
       "\n",
       "    .dataframe thead th {\n",
       "        text-align: right;\n",
       "    }\n",
       "</style>\n",
       "<table border=\"1\" class=\"dataframe\">\n",
       "  <thead>\n",
       "    <tr style=\"text-align: right;\">\n",
       "      <th></th>\n",
       "      <th>Country</th>\n",
       "      <th>Nominal_gdp_p_capita</th>\n",
       "      <th>PPP_gdp_p_capita</th>\n",
       "      <th>GDP_growth_percentage</th>\n",
       "      <th>Rise_fall_GDP</th>\n",
       "    </tr>\n",
       "  </thead>\n",
       "  <tbody>\n",
       "    <tr>\n",
       "      <th>0</th>\n",
       "      <td>Afghanistan</td>\n",
       "      <td>581</td>\n",
       "      <td>2390.0</td>\n",
       "      <td>-5.000</td>\n",
       "      <td>medium fall</td>\n",
       "    </tr>\n",
       "    <tr>\n",
       "      <th>1</th>\n",
       "      <td>Albania</td>\n",
       "      <td>5287</td>\n",
       "      <td>14218.0</td>\n",
       "      <td>-3.500</td>\n",
       "      <td>medium fall</td>\n",
       "    </tr>\n",
       "    <tr>\n",
       "      <th>2</th>\n",
       "      <td>Algeria</td>\n",
       "      <td>3263</td>\n",
       "      <td>11112.0</td>\n",
       "      <td>-5.992</td>\n",
       "      <td>medium fall</td>\n",
       "    </tr>\n",
       "    <tr>\n",
       "      <th>3</th>\n",
       "      <td>Angola</td>\n",
       "      <td>2012</td>\n",
       "      <td>6932.0</td>\n",
       "      <td>-3.975</td>\n",
       "      <td>medium fall</td>\n",
       "    </tr>\n",
       "    <tr>\n",
       "      <th>4</th>\n",
       "      <td>Antigua and Barbuda</td>\n",
       "      <td>14168</td>\n",
       "      <td>18618.0</td>\n",
       "      <td>-17.273</td>\n",
       "      <td>very high fall</td>\n",
       "    </tr>\n",
       "  </tbody>\n",
       "</table>\n",
       "</div>"
      ],
      "text/plain": [
       "               Country Nominal_gdp_p_capita  PPP_gdp_p_capita  \\\n",
       "0          Afghanistan                  581            2390.0   \n",
       "1              Albania                 5287           14218.0   \n",
       "2              Algeria                 3263           11112.0   \n",
       "3               Angola                 2012            6932.0   \n",
       "4  Antigua and Barbuda                14168           18618.0   \n",
       "\n",
       "   GDP_growth_percentage   Rise_fall_GDP  \n",
       "0                 -5.000     medium fall  \n",
       "1                 -3.500     medium fall  \n",
       "2                 -5.992     medium fall  \n",
       "3                 -3.975     medium fall  \n",
       "4                -17.273  very high fall  "
      ]
     },
     "execution_count": 7,
     "metadata": {},
     "output_type": "execute_result"
    }
   ],
   "source": [
    "GDP.head()"
   ]
  },
  {
   "cell_type": "code",
   "execution_count": 8,
   "id": "fe3f1c02",
   "metadata": {},
   "outputs": [
    {
     "data": {
      "text/html": [
       "<div>\n",
       "<style scoped>\n",
       "    .dataframe tbody tr th:only-of-type {\n",
       "        vertical-align: middle;\n",
       "    }\n",
       "\n",
       "    .dataframe tbody tr th {\n",
       "        vertical-align: top;\n",
       "    }\n",
       "\n",
       "    .dataframe thead th {\n",
       "        text-align: right;\n",
       "    }\n",
       "</style>\n",
       "<table border=\"1\" class=\"dataframe\">\n",
       "  <thead>\n",
       "    <tr style=\"text-align: right;\">\n",
       "      <th></th>\n",
       "      <th>Country</th>\n",
       "      <th>Nominal_gdp_p_capita</th>\n",
       "      <th>PPP_gdp_p_capita</th>\n",
       "      <th>GDP_growth_percentage</th>\n",
       "      <th>Rise_fall_GDP</th>\n",
       "    </tr>\n",
       "  </thead>\n",
       "  <tbody>\n",
       "    <tr>\n",
       "      <th>189</th>\n",
       "      <td>Vietnam</td>\n",
       "      <td>3499</td>\n",
       "      <td>10869.0</td>\n",
       "      <td>2.906</td>\n",
       "      <td>short rise</td>\n",
       "    </tr>\n",
       "    <tr>\n",
       "      <th>190</th>\n",
       "      <td>Pallestine</td>\n",
       "      <td>3042</td>\n",
       "      <td>5388.0</td>\n",
       "      <td>-10.960</td>\n",
       "      <td>High fall</td>\n",
       "    </tr>\n",
       "    <tr>\n",
       "      <th>191</th>\n",
       "      <td>Yemen</td>\n",
       "      <td>620</td>\n",
       "      <td>1927.0</td>\n",
       "      <td>-5.000</td>\n",
       "      <td>medium fall</td>\n",
       "    </tr>\n",
       "    <tr>\n",
       "      <th>192</th>\n",
       "      <td>Zambia</td>\n",
       "      <td>981</td>\n",
       "      <td>3342.0</td>\n",
       "      <td>-3.497</td>\n",
       "      <td>medium fall</td>\n",
       "    </tr>\n",
       "    <tr>\n",
       "      <th>193</th>\n",
       "      <td>Zimbabwe</td>\n",
       "      <td>1385</td>\n",
       "      <td>2622.0</td>\n",
       "      <td>-8.002</td>\n",
       "      <td>High fall</td>\n",
       "    </tr>\n",
       "  </tbody>\n",
       "</table>\n",
       "</div>"
      ],
      "text/plain": [
       "        Country Nominal_gdp_p_capita  PPP_gdp_p_capita  GDP_growth_percentage  \\\n",
       "189     Vietnam                 3499           10869.0                  2.906   \n",
       "190  Pallestine                 3042            5388.0                -10.960   \n",
       "191       Yemen                  620            1927.0                 -5.000   \n",
       "192      Zambia                  981            3342.0                 -3.497   \n",
       "193    Zimbabwe                 1385            2622.0                 -8.002   \n",
       "\n",
       "    Rise_fall_GDP  \n",
       "189    short rise  \n",
       "190     High fall  \n",
       "191   medium fall  \n",
       "192   medium fall  \n",
       "193     High fall  "
      ]
     },
     "execution_count": 8,
     "metadata": {},
     "output_type": "execute_result"
    }
   ],
   "source": [
    "GDP.tail()"
   ]
  },
  {
   "cell_type": "code",
   "execution_count": 9,
   "id": "1b62efc5",
   "metadata": {},
   "outputs": [
    {
     "name": "stdout",
     "output_type": "stream",
     "text": [
      "<class 'pandas.core.frame.DataFrame'>\n",
      "RangeIndex: 194 entries, 0 to 193\n",
      "Data columns (total 5 columns):\n",
      " #   Column                 Non-Null Count  Dtype  \n",
      "---  ------                 --------------  -----  \n",
      " 0   Country                194 non-null    object \n",
      " 1   Nominal_gdp_p_capita   193 non-null    object \n",
      " 2   PPP_gdp_p_capita       193 non-null    float64\n",
      " 3   GDP_growth_percentage  193 non-null    float64\n",
      " 4   Rise_fall_GDP          193 non-null    object \n",
      "dtypes: float64(2), object(3)\n",
      "memory usage: 7.7+ KB\n"
     ]
    }
   ],
   "source": [
    "GDP.info()"
   ]
  },
  {
   "cell_type": "code",
   "execution_count": 11,
   "id": "09b7f6ce",
   "metadata": {},
   "outputs": [
    {
     "data": {
      "text/plain": [
       "(194, 5)"
      ]
     },
     "execution_count": 11,
     "metadata": {},
     "output_type": "execute_result"
    }
   ],
   "source": [
    "GDP.shape"
   ]
  },
  {
   "cell_type": "code",
   "execution_count": 13,
   "id": "859c34d5",
   "metadata": {},
   "outputs": [
    {
     "data": {
      "text/plain": [
       "Index(['Country', 'Nominal_gdp_p_capita', 'PPP_gdp_p_capita',\n",
       "       'GDP_growth_percentage', 'Rise_fall_GDP'],\n",
       "      dtype='object')"
      ]
     },
     "execution_count": 13,
     "metadata": {},
     "output_type": "execute_result"
    }
   ],
   "source": [
    "GDP.columns"
   ]
  },
  {
   "cell_type": "code",
   "execution_count": 12,
   "id": "67306f79",
   "metadata": {},
   "outputs": [
    {
     "data": {
      "text/html": [
       "<div>\n",
       "<style scoped>\n",
       "    .dataframe tbody tr th:only-of-type {\n",
       "        vertical-align: middle;\n",
       "    }\n",
       "\n",
       "    .dataframe tbody tr th {\n",
       "        vertical-align: top;\n",
       "    }\n",
       "\n",
       "    .dataframe thead th {\n",
       "        text-align: right;\n",
       "    }\n",
       "</style>\n",
       "<table border=\"1\" class=\"dataframe\">\n",
       "  <thead>\n",
       "    <tr style=\"text-align: right;\">\n",
       "      <th></th>\n",
       "      <th>PPP_gdp_p_capita</th>\n",
       "      <th>GDP_growth_percentage</th>\n",
       "    </tr>\n",
       "  </thead>\n",
       "  <tbody>\n",
       "    <tr>\n",
       "      <th>count</th>\n",
       "      <td>193.000000</td>\n",
       "      <td>193.000000</td>\n",
       "    </tr>\n",
       "    <tr>\n",
       "      <th>mean</th>\n",
       "      <td>20420.414508</td>\n",
       "      <td>-5.401249</td>\n",
       "    </tr>\n",
       "    <tr>\n",
       "      <th>std</th>\n",
       "      <td>21121.015845</td>\n",
       "      <td>8.701537</td>\n",
       "    </tr>\n",
       "    <tr>\n",
       "      <th>min</th>\n",
       "      <td>760.000000</td>\n",
       "      <td>-59.719000</td>\n",
       "    </tr>\n",
       "    <tr>\n",
       "      <th>25%</th>\n",
       "      <td>5036.000000</td>\n",
       "      <td>-7.571000</td>\n",
       "    </tr>\n",
       "    <tr>\n",
       "      <th>50%</th>\n",
       "      <td>12881.000000</td>\n",
       "      <td>-4.180000</td>\n",
       "    </tr>\n",
       "    <tr>\n",
       "      <th>75%</th>\n",
       "      <td>30178.000000</td>\n",
       "      <td>-1.282000</td>\n",
       "    </tr>\n",
       "    <tr>\n",
       "      <th>max</th>\n",
       "      <td>118002.000000</td>\n",
       "      <td>43.384000</td>\n",
       "    </tr>\n",
       "  </tbody>\n",
       "</table>\n",
       "</div>"
      ],
      "text/plain": [
       "       PPP_gdp_p_capita  GDP_growth_percentage\n",
       "count        193.000000             193.000000\n",
       "mean       20420.414508              -5.401249\n",
       "std        21121.015845               8.701537\n",
       "min          760.000000             -59.719000\n",
       "25%         5036.000000              -7.571000\n",
       "50%        12881.000000              -4.180000\n",
       "75%        30178.000000              -1.282000\n",
       "max       118002.000000              43.384000"
      ]
     },
     "execution_count": 12,
     "metadata": {},
     "output_type": "execute_result"
    }
   ],
   "source": [
    "GDP.describe()"
   ]
  },
  {
   "cell_type": "code",
   "execution_count": 22,
   "id": "8b7321d8",
   "metadata": {},
   "outputs": [
    {
     "data": {
      "text/html": [
       "<div>\n",
       "<style scoped>\n",
       "    .dataframe tbody tr th:only-of-type {\n",
       "        vertical-align: middle;\n",
       "    }\n",
       "\n",
       "    .dataframe tbody tr th {\n",
       "        vertical-align: top;\n",
       "    }\n",
       "\n",
       "    .dataframe thead th {\n",
       "        text-align: right;\n",
       "    }\n",
       "</style>\n",
       "<table border=\"1\" class=\"dataframe\">\n",
       "  <thead>\n",
       "    <tr style=\"text-align: right;\">\n",
       "      <th></th>\n",
       "      <th>Country</th>\n",
       "      <th>Nominal_gdp_p_capita</th>\n",
       "      <th>PPP_gdp_p_capita</th>\n",
       "      <th>GDP_growth_percentage</th>\n",
       "      <th>Rise_fall_GDP</th>\n",
       "    </tr>\n",
       "  </thead>\n",
       "  <tbody>\n",
       "    <tr>\n",
       "      <th>5</th>\n",
       "      <td>Argentina</td>\n",
       "      <td>8555</td>\n",
       "      <td>20751.0</td>\n",
       "      <td>-9.956</td>\n",
       "      <td>High fall</td>\n",
       "    </tr>\n",
       "    <tr>\n",
       "      <th>6</th>\n",
       "      <td>Armenia</td>\n",
       "      <td>4155</td>\n",
       "      <td>13261.0</td>\n",
       "      <td>-7.571</td>\n",
       "      <td>High fall</td>\n",
       "    </tr>\n",
       "    <tr>\n",
       "      <th>9</th>\n",
       "      <td>Austria</td>\n",
       "      <td>48154</td>\n",
       "      <td>55218.0</td>\n",
       "      <td>-6.590</td>\n",
       "      <td>High fall</td>\n",
       "    </tr>\n",
       "  </tbody>\n",
       "</table>\n",
       "</div>"
      ],
      "text/plain": [
       "     Country Nominal_gdp_p_capita  PPP_gdp_p_capita  GDP_growth_percentage  \\\n",
       "5  Argentina                 8555           20751.0                 -9.956   \n",
       "6    Armenia                 4155           13261.0                 -7.571   \n",
       "9    Austria                48154           55218.0                 -6.590   \n",
       "\n",
       "  Rise_fall_GDP  \n",
       "5     High fall  \n",
       "6     High fall  \n",
       "9     High fall  "
      ]
     },
     "execution_count": 22,
     "metadata": {},
     "output_type": "execute_result"
    }
   ],
   "source": [
    " GDP[GDP['Rise_fall_GDP'] == 'High fall'].head(3)"
   ]
  },
  {
   "cell_type": "code",
   "execution_count": 19,
   "id": "ecee98f6",
   "metadata": {},
   "outputs": [
    {
     "data": {
      "text/html": [
       "<div>\n",
       "<style scoped>\n",
       "    .dataframe tbody tr th:only-of-type {\n",
       "        vertical-align: middle;\n",
       "    }\n",
       "\n",
       "    .dataframe tbody tr th {\n",
       "        vertical-align: top;\n",
       "    }\n",
       "\n",
       "    .dataframe thead th {\n",
       "        text-align: right;\n",
       "    }\n",
       "</style>\n",
       "<table border=\"1\" class=\"dataframe\">\n",
       "  <thead>\n",
       "    <tr style=\"text-align: right;\">\n",
       "      <th></th>\n",
       "      <th>Country</th>\n",
       "    </tr>\n",
       "  </thead>\n",
       "  <tbody>\n",
       "    <tr>\n",
       "      <th>0</th>\n",
       "      <td>Afghanistan</td>\n",
       "    </tr>\n",
       "    <tr>\n",
       "      <th>1</th>\n",
       "      <td>Albania</td>\n",
       "    </tr>\n",
       "    <tr>\n",
       "      <th>2</th>\n",
       "      <td>Algeria</td>\n",
       "    </tr>\n",
       "    <tr>\n",
       "      <th>3</th>\n",
       "      <td>Angola</td>\n",
       "    </tr>\n",
       "    <tr>\n",
       "      <th>4</th>\n",
       "      <td>Antigua and Barbuda</td>\n",
       "    </tr>\n",
       "    <tr>\n",
       "      <th>...</th>\n",
       "      <td>...</td>\n",
       "    </tr>\n",
       "    <tr>\n",
       "      <th>189</th>\n",
       "      <td>Vietnam</td>\n",
       "    </tr>\n",
       "    <tr>\n",
       "      <th>190</th>\n",
       "      <td>Pallestine</td>\n",
       "    </tr>\n",
       "    <tr>\n",
       "      <th>191</th>\n",
       "      <td>Yemen</td>\n",
       "    </tr>\n",
       "    <tr>\n",
       "      <th>192</th>\n",
       "      <td>Zambia</td>\n",
       "    </tr>\n",
       "    <tr>\n",
       "      <th>193</th>\n",
       "      <td>Zimbabwe</td>\n",
       "    </tr>\n",
       "  </tbody>\n",
       "</table>\n",
       "<p>194 rows × 1 columns</p>\n",
       "</div>"
      ],
      "text/plain": [
       "                 Country\n",
       "0            Afghanistan\n",
       "1                Albania\n",
       "2                Algeria\n",
       "3                 Angola\n",
       "4    Antigua and Barbuda\n",
       "..                   ...\n",
       "189              Vietnam\n",
       "190           Pallestine\n",
       "191                Yemen\n",
       "192               Zambia\n",
       "193             Zimbabwe\n",
       "\n",
       "[194 rows x 1 columns]"
      ]
     },
     "execution_count": 19,
     "metadata": {},
     "output_type": "execute_result"
    }
   ],
   "source": [
    "GDP.dropna(axis=1)"
   ]
  },
  {
   "cell_type": "code",
   "execution_count": 16,
   "id": "2cdf37e1",
   "metadata": {},
   "outputs": [
    {
     "data": {
      "text/plain": [
       "Country                  0\n",
       "Nominal_gdp_p_capita     1\n",
       "PPP_gdp_p_capita         1\n",
       "GDP_growth_percentage    1\n",
       "Rise_fall_GDP            1\n",
       "dtype: int64"
      ]
     },
     "execution_count": 16,
     "metadata": {},
     "output_type": "execute_result"
    }
   ],
   "source": [
    "GDP.isnull().sum()"
   ]
  }
 ],
 "metadata": {
  "kernelspec": {
   "display_name": "Python 3",
   "language": "python",
   "name": "python3"
  },
  "language_info": {
   "codemirror_mode": {
    "name": "ipython",
    "version": 3
   },
   "file_extension": ".py",
   "mimetype": "text/x-python",
   "name": "python",
   "nbconvert_exporter": "python",
   "pygments_lexer": "ipython3",
   "version": "3.8.8"
  }
 },
 "nbformat": 4,
 "nbformat_minor": 5
}
