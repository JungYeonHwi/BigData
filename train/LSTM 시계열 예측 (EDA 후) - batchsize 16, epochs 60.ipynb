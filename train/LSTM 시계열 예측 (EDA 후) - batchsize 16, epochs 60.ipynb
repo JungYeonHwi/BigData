{
 "cells": [
  {
   "cell_type": "code",
   "execution_count": 2,
   "id": "01f2fe1e",
   "metadata": {},
   "outputs": [],
   "source": [
    "import numpy as np\n",
    "import pandas as pd\n",
    "import matplotlib.pyplot as plt\n",
    "\n",
    "# 데이터 읽기\n",
    "f=open(\"C:/Users/wjddu/git/BigData/train/train_ori.csv\", \"r\")\n",
    "dataframe = pd.read_csv(f, header=0)\n"
   ]
  },
  {
   "cell_type": "code",
   "execution_count": null,
   "id": "583e8bac",
   "metadata": {},
   "outputs": [],
   "source": []
  },
  {
   "cell_type": "code",
   "execution_count": 3,
   "id": "ac9e0553",
   "metadata": {},
   "outputs": [
    {
     "name": "stdout",
     "output_type": "stream",
     "text": [
      "-617.60175 1029.33625\n"
     ]
    }
   ],
   "source": [
    "quantile_25 = np.quantile(dataframe['pow_gen'], 0.25)\n",
    "quantile_75 = np.quantile(dataframe['pow_gen'],0.75)\n",
    "IQR = quantile_75 - quantile_25\n",
    "minimum = quantile_25 - 1.5 * IQR\n",
    "maximum = quantile_75 + 1.5 * IQR\n",
    "print(minimum, maximum)\n",
    "dataframe.drop(dataframe[dataframe.pow_gen >= 1029.33625]. index, inplace = True)"
   ]
  },
  {
   "cell_type": "code",
   "execution_count": 4,
   "id": "ff7e361c",
   "metadata": {},
   "outputs": [
    {
     "name": "stdout",
     "output_type": "stream",
     "text": [
      "-19.450000000000003 45.75\n"
     ]
    }
   ],
   "source": [
    "quantile_25 = np.quantile(dataframe['temperature'], 0.25)\n",
    "quantile_75 = np.quantile(dataframe['temperature'],0.75)\n",
    "IQR = quantile_75 - quantile_25\n",
    "minimum = quantile_25 - 1.5 * IQR\n",
    "maximum = quantile_75 + 1.5 * IQR\n",
    "print(minimum, maximum)\n",
    "dataframe.drop(dataframe[dataframe.temperature >= 45.75]. index, inplace = True)"
   ]
  },
  {
   "cell_type": "code",
   "execution_count": 5,
   "id": "6baa1b83",
   "metadata": {},
   "outputs": [
    {
     "name": "stdout",
     "output_type": "stream",
     "text": [
      "-7.5 148.5\n"
     ]
    }
   ],
   "source": [
    "quantile_25 = np.quantile(dataframe['humidity'], 0.25)\n",
    "quantile_75 = np.quantile(dataframe['humidity'],0.75)\n",
    "IQR = quantile_75 - quantile_25\n",
    "minimum = quantile_25 - 1.5 * IQR\n",
    "maximum = quantile_75 + 1.5 * IQR\n",
    "print(minimum, maximum)\n",
    "dataframe.drop(dataframe[dataframe.humidity >= 148.5]. index, inplace = True)"
   ]
  },
  {
   "cell_type": "code",
   "execution_count": 6,
   "id": "30a86e65",
   "metadata": {},
   "outputs": [
    {
     "name": "stdout",
     "output_type": "stream",
     "text": [
      "-31.150000000000002 46.050000000000004\n"
     ]
    }
   ],
   "source": [
    "quantile_25 = np.quantile(dataframe['dew_point'], 0.25)\n",
    "quantile_75 = np.quantile(dataframe['dew_point'],0.75)\n",
    "IQR = quantile_75 - quantile_25\n",
    "minimum = quantile_25 - 1.5 * IQR\n",
    "maximum = quantile_75 + 1.5 * IQR\n",
    "print(minimum, maximum)\n",
    "dataframe.drop(dataframe[dataframe.dew_point >= 46.050000000000004]. index, inplace = True)"
   ]
  },
  {
   "cell_type": "code",
   "execution_count": 7,
   "id": "cf2b2adb",
   "metadata": {},
   "outputs": [
    {
     "name": "stdout",
     "output_type": "stream",
     "text": [
      "-266.667 444.44499999999994\n"
     ]
    }
   ],
   "source": [
    "quantile_25 = np.quantile(dataframe['sol_rad'], 0.25)\n",
    "quantile_75 = np.quantile(dataframe['sol_rad'],0.75)\n",
    "IQR = quantile_75 - quantile_25\n",
    "minimum = quantile_25 - 1.5 * IQR\n",
    "maximum = quantile_75 + 1.5 * IQR\n",
    "print(minimum, maximum)\n",
    "dataframe.drop(dataframe[dataframe.dew_point >= 444.44499999999994]. index, inplace = True)"
   ]
  },
  {
   "cell_type": "code",
   "execution_count": 8,
   "id": "9130b549",
   "metadata": {},
   "outputs": [
    {
     "name": "stdout",
     "output_type": "stream",
     "text": [
      "-10.5 17.5\n"
     ]
    }
   ],
   "source": [
    "quantile_25 = np.quantile(dataframe['cloud'], 0.25)\n",
    "quantile_75 = np.quantile(dataframe['cloud'],0.75)\n",
    "IQR = quantile_75 - quantile_25\n",
    "minimum = quantile_25 - 1.5 * IQR\n",
    "maximum = quantile_75 + 1.5 * IQR\n",
    "print(minimum, maximum)\n",
    "dataframe.drop(dataframe[dataframe.dew_point >= 17.5]. index, inplace = True)"
   ]
  },
  {
   "cell_type": "code",
   "execution_count": 9,
   "id": "bdcdc006",
   "metadata": {},
   "outputs": [],
   "source": [
    "seq= dataframe[['temperature', 'humidity', 'dew_point', 'sol_rad', 'cloud']].to_numpy()"
   ]
  },
  {
   "cell_type": "code",
   "execution_count": 10,
   "id": "059f045c",
   "metadata": {},
   "outputs": [
    {
     "name": "stdout",
     "output_type": "stream",
     "text": [
      "(25523, 30, 5) (25523, 5)\n"
     ]
    }
   ],
   "source": [
    "#윈도우 단위로 자르는 함수\n",
    "def seq2dataset(seq,window, horizon):\n",
    "    X=[]; Y=[]\n",
    "    for i in range(len(seq)-(window+horizon)+1):\n",
    "        x= seq[i:i+window]\n",
    "        y= seq[i+window+horizon-1]\n",
    "        X.append(x); Y.append(y)\n",
    "    return np.array(X), np.array(Y)\n",
    "\n",
    "# 한 달 정보를 측정하여 다음 날의 정보를 예측\n",
    "w=30\n",
    "h=1\n",
    "\n",
    "X,Y= seq2dataset(seq,w,h)\n",
    "print(X.shape, Y.shape)"
   ]
  },
  {
   "cell_type": "code",
   "execution_count": 11,
   "id": "d8af3e30",
   "metadata": {},
   "outputs": [],
   "source": [
    "from tensorflow.keras.models import Sequential\n",
    "from tensorflow.keras.layers import Dense, LSTM, Dropout\n",
    "\n",
    "#훈련 집합과 테스트 집합으로 분할\n",
    "split = int(len(X)*0.7)\n",
    "x_train= X[0:split]; y_train = Y[0:split]\n",
    "x_test= X[split:]; y_test = Y[split:]"
   ]
  },
  {
   "cell_type": "code",
   "execution_count": 13,
   "id": "68552e95",
   "metadata": {
    "scrolled": true
   },
   "outputs": [
    {
     "name": "stdout",
     "output_type": "stream",
     "text": [
      "Epoch 1/60\n",
      "1117/1117 [==============================] - 56s 39ms/step - loss: 9472.4521 - mse: 9472.4521 - val_loss: 5962.9126 - val_mse: 5962.9126\n",
      "Epoch 2/60\n",
      "1117/1117 [==============================] - 42s 37ms/step - loss: 5164.8364 - mse: 5164.8364 - val_loss: 4189.0698 - val_mse: 4189.0698\n",
      "Epoch 3/60\n",
      "1117/1117 [==============================] - 53s 48ms/step - loss: 3298.1611 - mse: 3298.1611 - val_loss: 2371.9236 - val_mse: 2371.9236\n",
      "Epoch 4/60\n",
      "1117/1117 [==============================] - 59s 53ms/step - loss: 6820.0972 - mse: 6820.0972 - val_loss: 6350.0234 - val_mse: 6350.0234\n",
      "Epoch 5/60\n",
      "1117/1117 [==============================] - 51s 45ms/step - loss: 5885.4561 - mse: 5885.4561 - val_loss: 4963.1572 - val_mse: 4963.1572\n",
      "Epoch 6/60\n",
      "1117/1117 [==============================] - 57s 51ms/step - loss: 4167.8574 - mse: 4167.8574 - val_loss: 3779.0808 - val_mse: 3779.0808\n",
      "Epoch 7/60\n",
      "1117/1117 [==============================] - 52s 46ms/step - loss: 3074.0256 - mse: 3074.0256 - val_loss: 2472.5308 - val_mse: 2472.5308\n",
      "Epoch 8/60\n",
      "1117/1117 [==============================] - 56s 50ms/step - loss: 3226.0525 - mse: 3226.0525 - val_loss: 1937.7428 - val_mse: 1937.7428\n",
      "Epoch 9/60\n",
      "1117/1117 [==============================] - 50s 45ms/step - loss: 1777.2085 - mse: 1777.2085 - val_loss: 1618.2117 - val_mse: 1618.2117\n",
      "Epoch 10/60\n",
      "1117/1117 [==============================] - 50s 45ms/step - loss: 4380.3916 - mse: 4380.3916 - val_loss: 1928.0194 - val_mse: 1928.0194\n",
      "Epoch 11/60\n",
      "1117/1117 [==============================] - 52s 47ms/step - loss: 1683.6431 - mse: 1683.6431 - val_loss: 1158.8698 - val_mse: 1158.8698\n",
      "Epoch 12/60\n",
      "1117/1117 [==============================] - 51s 46ms/step - loss: 1969.6754 - mse: 1969.6754 - val_loss: 1290.0475 - val_mse: 1290.0475\n",
      "Epoch 13/60\n",
      "1117/1117 [==============================] - 54s 48ms/step - loss: 598610.3750 - mse: 598610.3750 - val_loss: 7717.0576 - val_mse: 7717.0576\n",
      "Epoch 14/60\n",
      "1117/1117 [==============================] - 51s 46ms/step - loss: 104269.4453 - mse: 104269.4453 - val_loss: 606303.8125 - val_mse: 606303.8125\n",
      "Epoch 15/60\n",
      "1117/1117 [==============================] - 53s 47ms/step - loss: 101527656.0000 - mse: 101527656.0000 - val_loss: 90028.6094 - val_mse: 90028.6094\n",
      "Epoch 16/60\n",
      "1117/1117 [==============================] - 46s 42ms/step - loss: 54017.0195 - mse: 54017.0195 - val_loss: 29343.6055 - val_mse: 29343.6055\n",
      "Epoch 18/60\n",
      "1117/1117 [==============================] - 40s 36ms/step - loss: 27706.0840 - mse: 27706.0840 - val_loss: 18513.8008 - val_mse: 18513.8008\n",
      "Epoch 19/60\n",
      "1117/1117 [==============================] - 43s 38ms/step - loss: 78694.5625 - mse: 78694.5625 - val_loss: 101689.6875 - val_mse: 101689.6875\n",
      "Epoch 20/60\n",
      "1117/1117 [==============================] - 42s 37ms/step - loss: 262915.8750 - mse: 262915.8750 - val_loss: 10765.3037 - val_mse: 10765.3037\n",
      "Epoch 21/60\n",
      "1117/1117 [==============================] - 44s 40ms/step - loss: 10786.4600 - mse: 10786.4600 - val_loss: 9119.3291 - val_mse: 9119.3291\n",
      "Epoch 22/60\n",
      "1117/1117 [==============================] - 42s 38ms/step - loss: 8448.7422 - mse: 8448.7422 - val_loss: 7102.1221 - val_mse: 7102.1221\n",
      "Epoch 25/60\n",
      "1117/1117 [==============================] - 43s 39ms/step - loss: 7855.5166 - mse: 7855.5166 - val_loss: 8537.2041 - val_mse: 8537.2041\n",
      "Epoch 26/60\n",
      "1117/1117 [==============================] - 46s 41ms/step - loss: 7842.5684 - mse: 7842.5684 - val_loss: 7814.3604 - val_mse: 7814.3604\n",
      "Epoch 27/60\n",
      "1117/1117 [==============================] - 41s 37ms/step - loss: 7507.5410 - mse: 7507.5410 - val_loss: 5536.6143 - val_mse: 5536.6143\n",
      "Epoch 28/60\n",
      "1117/1117 [==============================] - 40s 35ms/step - loss: 40531.9453 - mse: 40531.9453 - val_loss: 9233.0820 - val_mse: 9233.0820\n",
      "Epoch 29/60\n",
      "1117/1117 [==============================] - 43s 39ms/step - loss: 23560.0566 - mse: 23560.0566 - val_loss: 6605.8320 - val_mse: 6605.8320\n",
      "Epoch 30/60\n",
      "1117/1117 [==============================] - 43s 39ms/step - loss: 7279.0200 - mse: 7279.0200 - val_loss: 6558.3486 - val_mse: 6558.3486\n",
      "Epoch 31/60\n",
      "1117/1117 [==============================] - 31s 27ms/step - loss: 1506564992.0000 - mse: 1506564992.0000 - val_loss: 4332703.5000 - val_mse: 4332703.5000\n",
      "Epoch 32/60\n",
      "1117/1117 [==============================] - 33s 30ms/step - loss: 3281420.0000 - mse: 3281420.0000 - val_loss: 105121.9297 - val_mse: 105121.9297\n",
      "Epoch 33/60\n",
      "1117/1117 [==============================] - 29s 26ms/step - loss: 77770.6328 - mse: 77770.6328 - val_loss: 35462.1250 - val_mse: 35462.1250\n",
      "Epoch 34/60\n",
      "1117/1117 [==============================] - 27s 24ms/step - loss: 422170.6250 - mse: 422170.6250 - val_loss: 51676.5156 - val_mse: 51676.5156\n",
      "Epoch 35/60\n",
      "1117/1117 [==============================] - 29s 26ms/step - loss: 128230456.0000 - mse: 128230456.0000 - val_loss: 113157.7656 - val_mse: 113157.7656\n",
      "Epoch 36/60\n",
      "1117/1117 [==============================] - 30s 27ms/step - loss: 1978238.8750 - mse: 1978238.8750 - val_loss: 640772.0625 - val_mse: 640772.0625\n",
      "Epoch 37/60\n",
      "1117/1117 [==============================] - 29s 26ms/step - loss: 11851998.0000 - mse: 11851998.0000 - val_loss: 935584.9375 - val_mse: 935584.9375\n",
      "Epoch 38/60\n",
      "1117/1117 [==============================] - 32s 29ms/step - loss: 4811448.5000 - mse: 4811448.5000 - val_loss: 1253961.0000 - val_mse: 1253961.0000\n",
      "Epoch 39/60\n",
      "1117/1117 [==============================] - 30s 27ms/step - loss: 4772576.5000 - mse: 4772576.5000 - val_loss: 2144041.0000 - val_mse: 2144041.0000\n",
      "Epoch 40/60\n",
      "1117/1117 [==============================] - 23s 21ms/step - loss: 794833.1875 - mse: 794833.1875 - val_loss: 158398.7500 - val_mse: 158398.7500\n",
      "Epoch 41/60\n",
      "1117/1117 [==============================] - 24s 21ms/step - loss: 258266.4844 - mse: 258266.4844 - val_loss: 56772.1914 - val_mse: 56772.1914\n",
      "Epoch 42/60\n",
      "1117/1117 [==============================] - 27s 24ms/step - loss: 48893.1719 - mse: 48893.1719 - val_loss: 32058.1699 - val_mse: 32058.1699\n",
      "Epoch 43/60\n",
      "1117/1117 [==============================] - 24s 21ms/step - loss: 42666.7305 - mse: 42666.7305 - val_loss: 38300.0039 - val_mse: 38300.0039\n",
      "Epoch 44/60\n",
      "1117/1117 [==============================] - 22s 20ms/step - loss: 30882.6328 - mse: 30882.6328 - val_loss: 26902.2383 - val_mse: 26902.2383\n",
      "Epoch 45/60\n",
      "1117/1117 [==============================] - 26s 23ms/step - loss: 21246.2441 - mse: 21246.2441 - val_loss: 11843.1680 - val_mse: 11843.1680\n",
      "Epoch 46/60\n",
      "1117/1117 [==============================] - 23s 20ms/step - loss: 13744.2285 - mse: 13744.2285 - val_loss: 9947.4824 - val_mse: 9947.4824\n",
      "Epoch 47/60\n",
      "1117/1117 [==============================] - 25s 23ms/step - loss: 15115.6816 - mse: 15115.6816 - val_loss: 11465.1377 - val_mse: 11465.1377\n",
      "Epoch 48/60\n",
      "1117/1117 [==============================] - 24s 22ms/step - loss: 393732.6875 - mse: 393732.6875 - val_loss: 29994.2441 - val_mse: 29994.2441\n",
      "Epoch 49/60\n",
      "1117/1117 [==============================] - 26s 23ms/step - loss: 241282.6250 - mse: 241282.6250 - val_loss: 72450.6172 - val_mse: 72450.6172\n",
      "Epoch 50/60\n",
      "1117/1117 [==============================] - 27s 25ms/step - loss: 389770.2188 - mse: 389770.2188 - val_loss: 36163.4062 - val_mse: 36163.4062\n",
      "Epoch 51/60\n",
      "1117/1117 [==============================] - 28s 25ms/step - loss: 44054.1172 - mse: 44054.1172 - val_loss: 13225.8340 - val_mse: 13225.8340\n",
      "Epoch 52/60\n",
      "1117/1117 [==============================] - 23s 21ms/step - loss: 18397.8906 - mse: 18397.8906 - val_loss: 9439.5400 - val_mse: 9439.5400\n",
      "Epoch 53/60\n",
      "1117/1117 [==============================] - 26s 23ms/step - loss: 9056.5264 - mse: 9056.5264 - val_loss: 7718.2251 - val_mse: 7718.2251\n",
      "Epoch 54/60\n",
      "1117/1117 [==============================] - 28s 25ms/step - loss: 8931.3525 - mse: 8931.3525 - val_loss: 7382.3862 - val_mse: 7382.3862\n",
      "Epoch 55/60\n",
      "1117/1117 [==============================] - 25s 23ms/step - loss: 8929.6729 - mse: 8929.6729 - val_loss: 7216.6733 - val_mse: 7216.6733\n",
      "Epoch 56/60\n",
      "1117/1117 [==============================] - 26s 24ms/step - loss: 8686.7910 - mse: 8686.7910 - val_loss: 7563.4917 - val_mse: 7563.4917\n",
      "Epoch 57/60\n"
     ]
    },
    {
     "name": "stdout",
     "output_type": "stream",
     "text": [
      "1117/1117 [==============================] - 26s 23ms/step - loss: 8295.6299 - mse: 8295.6299 - val_loss: 8250.1719 - val_mse: 8250.1719\n",
      "Epoch 58/60\n",
      "1117/1117 [==============================] - 27s 24ms/step - loss: 8583.0801 - mse: 8583.0801 - val_loss: 6434.2568 - val_mse: 6434.2568\n",
      "Epoch 59/60\n",
      "1117/1117 [==============================] - 23s 21ms/step - loss: 7938.5972 - mse: 7938.5972 - val_loss: 6505.0317 - val_mse: 6505.0317\n",
      "Epoch 60/60\n",
      "1117/1117 [==============================] - 23s 21ms/step - loss: 7739.1641 - mse: 7739.1641 - val_loss: 6806.1621 - val_mse: 6806.1621\n"
     ]
    }
   ],
   "source": [
    "#LSTM 모델 설계와 학습\n",
    "model=Sequential()\n",
    "model.add(LSTM(units=128, activation='relu', input_shape=x_train[0].shape))\n",
    "model.add(Dense(5))\n",
    "model.compile(loss='mse', optimizer='adam', metrics=['mse'])\n",
    "hist=model.fit(x_train,y_train, epochs=60, batch_size=16, validation_data=(x_test,y_test), verbose=1)"
   ]
  },
  {
   "cell_type": "code",
   "execution_count": 14,
   "id": "d4cd055d",
   "metadata": {},
   "outputs": [
    {
     "name": "stdout",
     "output_type": "stream",
     "text": [
      "손실 함수 6806.16552734375 MSE: 6806.16552734375\n",
      "82.4994880429191\n"
     ]
    }
   ],
   "source": [
    "#LSTM 모델 평가\n",
    "ev=model.evaluate(x_test,y_test, verbose=0)\n",
    "print(\"손실 함수\", ev[0], \"MSE:\",ev[1])\n",
    "print(ev[1] ** 0.5)"
   ]
  },
  {
   "cell_type": "code",
   "execution_count": null,
   "id": "173cc65b",
   "metadata": {},
   "outputs": [],
   "source": [
    "from sklearn.metrics import mean_squared_error\n",
    "\n",
    "RMSE = mean_squared_error(y_test, pred)**0.5\n",
    "print(RMSE)"
   ]
  },
  {
   "cell_type": "code",
   "execution_count": null,
   "id": "78213f54",
   "metadata": {},
   "outputs": [],
   "source": [
    "# R2 구하기\n",
    "from sklearn.metrics import r2_score\n",
    "r2_y_predict = r2_score(y_test, pred)\n",
    "print(\"R2 : \", r2_y_predict)\n"
   ]
  },
  {
   "cell_type": "code",
   "execution_count": null,
   "id": "d1c3372d",
   "metadata": {},
   "outputs": [],
   "source": [
    "#LSTM 모델로 예측 수행\n",
    "pred=model.predict(x_test)\n",
    "\n",
    "def MAPE(y, pred) : return np.mean(np.abs((y-pred) / y ) * 100)\n",
    "\n",
    "print(\"평균 절댓값 백분율 오차(MAPE)\", MAPE(y_test, pred))"
   ]
  },
  {
   "cell_type": "code",
   "execution_count": null,
   "id": "fdf8e8d9",
   "metadata": {},
   "outputs": [],
   "source": [
    "#학습 곡선\n",
    "plt.rcParams[\"figure.figsize\"] = (14,4)\n",
    "plt.plot(hist.history['mae'])\n",
    "plt.plot(hist.history['val_mae'])\n",
    "plt.title('Model mae')\n",
    "plt.ylabel('mae')\n",
    "plt.xlabel('Epoch')\n",
    "# plt.ylim([120, 800])\n",
    "plt.legend(['Train', 'Validation'],loc='best')\n",
    "plt.grid()\n",
    "plt.show()"
   ]
  },
  {
   "cell_type": "code",
   "execution_count": null,
   "id": "e0f8d967",
   "metadata": {},
   "outputs": [],
   "source": [
    "#예측 결과 시각화\n",
    "plt.rcParams[\"figure.figsize\"] = (20,8)\n",
    "x_range = range(len(y_test))\n",
    "plt.plot(x_range, y_test[x_range], color='red')\n",
    "plt.plot(x_range, pred[x_range], color='blue')\n",
    "plt.legend(['True prices', 'Predicted prices'], loc='best')\n",
    "plt.grid()\n",
    "plt.show()"
   ]
  },
  {
   "cell_type": "code",
   "execution_count": null,
   "id": "f7db2be4",
   "metadata": {},
   "outputs": [],
   "source": [
    "#일부 구간을 확대하여 시각화\n",
    "x_range = range(30,100)\n",
    "plt.rcParams[\"figure.figsize\"] = (20,8)\n",
    "plt.plot(x_range, y_test[x_range], color='red')\n",
    "plt.plot(x_range, pred[x_range], color='blue')\n",
    "plt.legend(['True prices', 'Predicted prices'], loc='best')\n",
    "plt.grid()\n",
    "plt.show()"
   ]
  },
  {
   "cell_type": "code",
   "execution_count": null,
   "id": "38772899",
   "metadata": {},
   "outputs": [],
   "source": []
  }
 ],
 "metadata": {
  "kernelspec": {
   "display_name": "Python 3",
   "language": "python",
   "name": "python3"
  },
  "language_info": {
   "codemirror_mode": {
    "name": "ipython",
    "version": 3
   },
   "file_extension": ".py",
   "mimetype": "text/x-python",
   "name": "python",
   "nbconvert_exporter": "python",
   "pygments_lexer": "ipython3",
   "version": "3.8.8"
  }
 },
 "nbformat": 4,
 "nbformat_minor": 5
}
