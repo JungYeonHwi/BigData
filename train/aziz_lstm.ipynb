{
 "cells": [
  {
   "cell_type": "code",
   "execution_count": 14,
   "metadata": {},
   "outputs": [],
   "source": [
    "import os\n",
    "import random\n",
    "import time\n",
    "\n",
    "import numpy as np\n",
    "import pandas as pd\n",
    "from itertools import combinations\n",
    "\n",
    "from sklearn.preprocessing import MinMaxScaler\n",
    "from sklearn.metrics import mean_squared_error, mean_absolute_error, r2_score, mean_absolute_percentage_error\n",
    "from sklearn.model_selection import train_test_split\n",
    "\n",
    "import tensorflow as tf\n",
    "import tensorflow_addons as tfa\n",
    "\n",
    "import matplotlib.pyplot as plt\n",
    "import seaborn as sns"
   ]
  },
  {
   "cell_type": "code",
   "execution_count": 15,
   "metadata": {},
   "outputs": [
    {
     "name": "stdout",
     "output_type": "stream",
     "text": [
      "Num GPUs Available: 0 True\n"
     ]
    }
   ],
   "source": [
    "os.environ['CUDA_VISIBLE_DEVICES'] = '-1'\n",
    "\n",
    "def set_random_seed(seed=0):\n",
    "    random.seed(seed)\n",
    "    np.random.seed(seed)\n",
    "    tf.random.set_seed(seed)\n",
    "\n",
    "\n",
    "set_random_seed(seed=0)\n",
    "print(\"Num GPUs Available:\", len(tf.config.list_physical_devices('GPU')), tf.test.is_built_with_cuda())"
   ]
  },
  {
   "cell_type": "code",
   "execution_count": 16,
   "metadata": {},
   "outputs": [],
   "source": [
    "plt.rcParams.update({\n",
    "    'font.family': 'Times New Roman',\n",
    "    'font.size': 16,\n",
    "    'figure.figsize': (14, 6),\n",
    "    'axes.grid' : True,\n",
    "    'axes.grid.axis': 'y'\n",
    "})"
   ]
  },
  {
   "cell_type": "code",
   "execution_count": 17,
   "metadata": {},
   "outputs": [
    {
     "data": {
      "text/plain": [
       "(35487, 8)"
      ]
     },
     "execution_count": 17,
     "metadata": {},
     "output_type": "execute_result"
    }
   ],
   "source": [
    "sel_cols = ['date', 'month', 'hour', 'temperature', 'humidity', 'dew_point', 'sol_rad', 'cloud', 'pow_gen']\n",
    "all_df = pd.read_csv(\"C:/Users/wjddu/git/BigData/train/train_ori.csv\", parse_dates=['date'], index_col='date', usecols=sel_cols)\n",
    "all_df.shape"
   ]
  },
  {
   "cell_type": "code",
   "execution_count": 18,
   "metadata": {},
   "outputs": [],
   "source": [
    "def calculate_pow_gen(x, window=11):\n",
    "    res = []\n",
    "    \n",
    "    for i in range(x.shape[0]):\n",
    "        start = 0 if i < window else 1 + (i-window)\n",
    "        end = i+1\n",
    "        \n",
    "        res.append(np.sum(x[start:end].values))\n",
    "    \n",
    "    return res\n",
    "\n",
    "all_df['pow_gen_daily'] = calculate_pow_gen(all_df['pow_gen'])\n"
   ]
  },
  {
   "cell_type": "code",
   "execution_count": 19,
   "metadata": {},
   "outputs": [
    {
     "data": {
      "text/plain": [
       "((35487, 7), (35487, 1))"
      ]
     },
     "execution_count": 19,
     "metadata": {},
     "output_type": "execute_result"
    }
   ],
   "source": [
    "X_features = ['month', 'hour', 'temperature', 'humidity', 'dew_point', 'sol_rad', 'cloud']\n",
    "y_feature = ['pow_gen']\n",
    "\n",
    "X = all_df[X_features]\n",
    "y = all_df[y_feature]\n",
    "\n",
    "X.shape, y.shape"
   ]
  },
  {
   "cell_type": "code",
   "execution_count": 20,
   "metadata": {},
   "outputs": [
    {
     "data": {
      "text/plain": [
       "((35487, 7), (35487, 1))"
      ]
     },
     "execution_count": 20,
     "metadata": {},
     "output_type": "execute_result"
    }
   ],
   "source": [
    "x_scaler = MinMaxScaler()\n",
    "y_scaler = MinMaxScaler()\n",
    "\n",
    "X_norm, y_norm = X.copy(), y.copy()\n",
    "X_norm.iloc[:, 2:] = x_scaler.fit_transform(X_norm.iloc[:, 2:])\n",
    "y_norm.iloc[:, :] = y_scaler.fit_transform(y_norm.iloc[:, :])\n",
    "\n",
    "X_norm.shape, y_norm.shape"
   ]
  },
  {
   "cell_type": "code",
   "execution_count": 21,
   "metadata": {},
   "outputs": [
    {
     "data": {
      "text/plain": [
       "((35465, 22, 7), (35465, 1))"
      ]
     },
     "execution_count": 21,
     "metadata": {},
     "output_type": "execute_result"
    }
   ],
   "source": [
    "def split_sequences(feature, label, timestep=22):\n",
    "    X, y = [], []\n",
    "    \n",
    "    for i in range(timestep, len(feature)):\n",
    "        \n",
    "        _X = feature[(i-timestep):i]\n",
    "        _y = label[i:i+1]\n",
    "        \n",
    "        X.append(_X)\n",
    "        y.append(_y)\n",
    "        \n",
    "    return np.array(X), np.array(y)\n",
    "\n",
    "X_total, y_total = split_sequences(X_norm.values, y_norm.values.flatten())\n",
    "\n",
    "X_total.shape, y_total.shape"
   ]
  },
  {
   "cell_type": "code",
   "execution_count": 22,
   "metadata": {},
   "outputs": [
    {
     "data": {
      "text/plain": [
       "((28372, 22, 7), (7093, 22, 7), (28372, 1), (7093, 1))"
      ]
     },
     "execution_count": 22,
     "metadata": {},
     "output_type": "execute_result"
    }
   ],
   "source": [
    "X_learn, X_test, y_learn, y_test = train_test_split(X_total, y_total, test_size=0.2, shuffle=False, random_state=0)\n",
    "y_test_inv = y_scaler.inverse_transform(y_test)\n",
    "\n",
    "# y_true_df = pd.DataFrame({'y_true': y_test_inv.ravel()})\n",
    "# y_true_df.to_csv('./data_0310/total_result.csv', index=False)\n",
    "\n",
    "X_learn.shape, X_test.shape, y_learn.shape, y_test.shape"
   ]
  },
  {
   "cell_type": "code",
   "execution_count": 23,
   "metadata": {},
   "outputs": [],
   "source": [
    "def create_train_valid_test(X, y, shuffle=True):\n",
    "    X_train, X_val, y_train, y_val = train_test_split(X, y, test_size=X_test.shape[0], random_state=0, shuffle=shuffle)\n",
    "    return X_train, X_val, y_train, y_val"
   ]
  },
  {
   "cell_type": "code",
   "execution_count": 24,
   "metadata": {},
   "outputs": [],
   "source": [
    "def generate_model_lstm(trainX, trainy, valX, valy, units=60, name='lstm', ndx=0):\n",
    "    \n",
    "    start_time = time.time()\n",
    "    tf.keras.backend.clear_session()\n",
    "    set_random_seed(seed=0)\n",
    "    model = tf.keras.models.Sequential()\n",
    "    model.add(tf.keras.layers.LSTM(units))\n",
    "    model.add(tf.keras.layers.Dense(1))\n",
    "    \n",
    "    early_stop = tf.keras.callbacks.EarlyStopping(monitor='val_loss', patience=30, verbose=0, mode='auto', restore_best_weights=True)\n",
    "    \n",
    "    filepath = './data/0222/%s_%d_best.hdf5' % (name, ndx)\n",
    "    \n",
    "    checkpoint = tf.keras.callbacks.ModelCheckpoint(filepath, monitor='val_loss', verbose=0, save_best_only=True, save_weights_only=False, mode='auto')\n",
    "    tqdm_callback = tfa.callbacks.TQDMProgressBar(show_epoch_progress=False)\n",
    "    \n",
    "    optimizer = tf.keras.optimizers.Adam(learning_rate=0.001)\n",
    "    \n",
    "    model.compile(loss='mean_squared_error', optimizer=optimizer, metrics=['mean_squared_error'])\n",
    "    \n",
    "    model.fit(trainX, trainy, epochs=1000, validation_data = (valX, valy), verbose=0, shuffle=False, callbacks=[early_stop, tqdm_callback])\n",
    "    print(\"--- %s seconds ---\" % (time.time() - start_time))\n",
    "    return model\n",
    "\n",
    "def evaluate(y_true, y_pred):\n",
    "    r2 = r2_score(y_true, y_pred)\n",
    "    mae = mean_absolute_error(y_true, y_pred)\n",
    "    rmse = mean_squared_error(y_true, y_pred, squared=False)\n",
    "    return np.round(r2*100, 1), np.round(mae, 1), np.round(rmse, 1)\n",
    "\n",
    "def save_result(colname, data):\n",
    "    path = './data_0310/total_result.csv'\n",
    "    result_df = pd.read_csv(path)\n",
    "    result_df[colname] = data.ravel()\n",
    "    result_df.to_csv(path, index=False)"
   ]
  },
  {
   "cell_type": "code",
   "execution_count": 25,
   "metadata": {},
   "outputs": [
    {
     "data": {
      "text/plain": [
       "((21279, 22, 7), (7093, 22, 7), (21279, 1), (7093, 1))"
      ]
     },
     "execution_count": 25,
     "metadata": {},
     "output_type": "execute_result"
    }
   ],
   "source": [
    "X_train, X_val, y_train, y_val = create_train_valid_test(X_learn, y_learn, shuffle=False)\n",
    "\n",
    "X_train.shape, X_val.shape, y_train.shape, y_val.shape"
   ]
  },
  {
   "cell_type": "code",
   "execution_count": 26,
   "metadata": {},
   "outputs": [
    {
     "data": {
      "application/vnd.jupyter.widget-view+json": {
       "model_id": "1ccc45888a2e4f6d8e1b0c832acfb875",
       "version_major": 2,
       "version_minor": 0
      },
      "text/plain": [
       "Training:   0%|                                                                              0/1000 ETA: ?s,  …"
      ]
     },
     "metadata": {},
     "output_type": "display_data"
    },
    {
     "name": "stdout",
     "output_type": "stream",
     "text": [
      "--- 555.1701440811157 seconds ---\n"
     ]
    },
    {
     "data": {
      "text/plain": [
       "(91.0, 111.4)"
      ]
     },
     "execution_count": 26,
     "metadata": {},
     "output_type": "execute_result"
    }
   ],
   "source": [
    "model = generate_model_lstm(X_train, y_train, X_val, y_val, units=100)\n",
    "\n",
    "y_forecast = model.predict(X_test)\n",
    "y_forecast_inv = y_scaler.inverse_transform(y_forecast)\n",
    "r2, mae, rmse = evaluate(y_test_inv, y_forecast_inv)\n",
    "\n",
    "\n",
    "r2, rmse"
   ]
  },
  {
   "cell_type": "code",
   "execution_count": null,
   "metadata": {},
   "outputs": [],
   "source": []
  },
  {
   "cell_type": "code",
   "execution_count": null,
   "metadata": {},
   "outputs": [],
   "source": []
  },
  {
   "cell_type": "code",
   "execution_count": null,
   "metadata": {},
   "outputs": [],
   "source": []
  }
 ],
 "metadata": {
  "kernelspec": {
   "display_name": "Python 3",
   "language": "python",
   "name": "python3"
  },
  "language_info": {
   "codemirror_mode": {
    "name": "ipython",
    "version": 3
   },
   "file_extension": ".py",
   "mimetype": "text/x-python",
   "name": "python",
   "nbconvert_exporter": "python",
   "pygments_lexer": "ipython3",
   "version": "3.8.8"
  }
 },
 "nbformat": 4,
 "nbformat_minor": 4
}
