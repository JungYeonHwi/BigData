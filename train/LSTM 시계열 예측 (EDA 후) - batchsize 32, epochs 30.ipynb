{
 "cells": [
  {
   "cell_type": "code",
   "execution_count": 1,
   "id": "01f2fe1e",
   "metadata": {},
   "outputs": [],
   "source": [
    "import numpy as np\n",
    "import pandas as pd\n",
    "import matplotlib.pyplot as plt\n",
    "\n",
    "# 데이터 읽기\n",
    "f=open(\"C:/Users/wjddu/git/BigData/train/train_ori.csv\", \"r\")\n",
    "dataframe = pd.read_csv(f, header=0)\n"
   ]
  },
  {
   "cell_type": "code",
   "execution_count": null,
   "id": "583e8bac",
   "metadata": {},
   "outputs": [],
   "source": []
  },
  {
   "cell_type": "code",
   "execution_count": 2,
   "id": "ac9e0553",
   "metadata": {},
   "outputs": [
    {
     "name": "stdout",
     "output_type": "stream",
     "text": [
      "-617.60175 1029.33625\n"
     ]
    }
   ],
   "source": [
    "quantile_25 = np.quantile(dataframe['pow_gen'], 0.25)\n",
    "quantile_75 = np.quantile(dataframe['pow_gen'],0.75)\n",
    "IQR = quantile_75 - quantile_25\n",
    "minimum = quantile_25 - 1.5 * IQR\n",
    "maximum = quantile_75 + 1.5 * IQR\n",
    "print(minimum, maximum)\n",
    "dataframe.drop(dataframe[dataframe.pow_gen >= 1029.33625]. index, inplace = True)"
   ]
  },
  {
   "cell_type": "code",
   "execution_count": 3,
   "id": "ff7e361c",
   "metadata": {},
   "outputs": [
    {
     "name": "stdout",
     "output_type": "stream",
     "text": [
      "-19.450000000000003 45.75\n"
     ]
    }
   ],
   "source": [
    "quantile_25 = np.quantile(dataframe['temperature'], 0.25)\n",
    "quantile_75 = np.quantile(dataframe['temperature'],0.75)\n",
    "IQR = quantile_75 - quantile_25\n",
    "minimum = quantile_25 - 1.5 * IQR\n",
    "maximum = quantile_75 + 1.5 * IQR\n",
    "print(minimum, maximum)\n",
    "dataframe.drop(dataframe[dataframe.temperature >= 45.75]. index, inplace = True)"
   ]
  },
  {
   "cell_type": "code",
   "execution_count": 4,
   "id": "6baa1b83",
   "metadata": {},
   "outputs": [
    {
     "name": "stdout",
     "output_type": "stream",
     "text": [
      "-7.5 148.5\n"
     ]
    }
   ],
   "source": [
    "quantile_25 = np.quantile(dataframe['humidity'], 0.25)\n",
    "quantile_75 = np.quantile(dataframe['humidity'],0.75)\n",
    "IQR = quantile_75 - quantile_25\n",
    "minimum = quantile_25 - 1.5 * IQR\n",
    "maximum = quantile_75 + 1.5 * IQR\n",
    "print(minimum, maximum)\n",
    "dataframe.drop(dataframe[dataframe.humidity >= 148.5]. index, inplace = True)"
   ]
  },
  {
   "cell_type": "code",
   "execution_count": 5,
   "id": "30a86e65",
   "metadata": {},
   "outputs": [
    {
     "name": "stdout",
     "output_type": "stream",
     "text": [
      "-31.150000000000002 46.050000000000004\n"
     ]
    }
   ],
   "source": [
    "quantile_25 = np.quantile(dataframe['dew_point'], 0.25)\n",
    "quantile_75 = np.quantile(dataframe['dew_point'],0.75)\n",
    "IQR = quantile_75 - quantile_25\n",
    "minimum = quantile_25 - 1.5 * IQR\n",
    "maximum = quantile_75 + 1.5 * IQR\n",
    "print(minimum, maximum)\n",
    "dataframe.drop(dataframe[dataframe.dew_point >= 46.050000000000004]. index, inplace = True)"
   ]
  },
  {
   "cell_type": "code",
   "execution_count": 6,
   "id": "cf2b2adb",
   "metadata": {},
   "outputs": [
    {
     "name": "stdout",
     "output_type": "stream",
     "text": [
      "-266.667 444.44499999999994\n"
     ]
    }
   ],
   "source": [
    "quantile_25 = np.quantile(dataframe['sol_rad'], 0.25)\n",
    "quantile_75 = np.quantile(dataframe['sol_rad'],0.75)\n",
    "IQR = quantile_75 - quantile_25\n",
    "minimum = quantile_25 - 1.5 * IQR\n",
    "maximum = quantile_75 + 1.5 * IQR\n",
    "print(minimum, maximum)\n",
    "dataframe.drop(dataframe[dataframe.dew_point >= 444.44499999999994]. index, inplace = True)"
   ]
  },
  {
   "cell_type": "code",
   "execution_count": 7,
   "id": "9130b549",
   "metadata": {},
   "outputs": [
    {
     "name": "stdout",
     "output_type": "stream",
     "text": [
      "-10.5 17.5\n"
     ]
    }
   ],
   "source": [
    "quantile_25 = np.quantile(dataframe['cloud'], 0.25)\n",
    "quantile_75 = np.quantile(dataframe['cloud'],0.75)\n",
    "IQR = quantile_75 - quantile_25\n",
    "minimum = quantile_25 - 1.5 * IQR\n",
    "maximum = quantile_75 + 1.5 * IQR\n",
    "print(minimum, maximum)\n",
    "dataframe.drop(dataframe[dataframe.dew_point >= 17.5]. index, inplace = True)"
   ]
  },
  {
   "cell_type": "code",
   "execution_count": 8,
   "id": "bdcdc006",
   "metadata": {},
   "outputs": [],
   "source": [
    "seq= dataframe[['temperature', 'humidity', 'dew_point', 'sol_rad', 'cloud']].to_numpy()"
   ]
  },
  {
   "cell_type": "code",
   "execution_count": 9,
   "id": "059f045c",
   "metadata": {},
   "outputs": [
    {
     "name": "stdout",
     "output_type": "stream",
     "text": [
      "(25523, 30, 5) (25523, 5)\n"
     ]
    }
   ],
   "source": [
    "#윈도우 단위로 자르는 함수\n",
    "def seq2dataset(seq,window, horizon):\n",
    "    X=[]; Y=[]\n",
    "    for i in range(len(seq)-(window+horizon)+1):\n",
    "        x= seq[i:i+window]\n",
    "        y= seq[i+window+horizon-1]\n",
    "        X.append(x); Y.append(y)\n",
    "    return np.array(X), np.array(Y)\n",
    "\n",
    "# 한 달 정보를 측정하여 다음 날의 정보를 예측\n",
    "w=30\n",
    "h=1\n",
    "\n",
    "X,Y= seq2dataset(seq,w,h)\n",
    "print(X.shape, Y.shape)"
   ]
  },
  {
   "cell_type": "code",
   "execution_count": 10,
   "id": "d8af3e30",
   "metadata": {},
   "outputs": [],
   "source": [
    "from tensorflow.keras.models import Sequential\n",
    "from tensorflow.keras.layers import Dense, LSTM, Dropout\n",
    "\n",
    "#훈련 집합과 테스트 집합으로 분할\n",
    "split = int(len(X)*0.7)\n",
    "x_train= X[0:split]; y_train = Y[0:split]\n",
    "x_test= X[split:]; y_test = Y[split:]"
   ]
  },
  {
   "cell_type": "code",
   "execution_count": 15,
   "id": "68552e95",
   "metadata": {
    "scrolled": true
   },
   "outputs": [
    {
     "name": "stdout",
     "output_type": "stream",
     "text": [
      "Epoch 1/30\n",
      "559/559 [==============================] - 54s 57ms/step - loss: 419920.7812 - mse: 419920.7812 - val_loss: 20222.6289 - val_mse: 20222.6289\n",
      "Epoch 2/30\n",
      "559/559 [==============================] - 20s 35ms/step - loss: 16481.2266 - mse: 16481.2266 - val_loss: 13608.5713 - val_mse: 13608.5713\n",
      "Epoch 3/30\n",
      "559/559 [==============================] - 21s 38ms/step - loss: 13466.0889 - mse: 13466.0889 - val_loss: 11284.1699 - val_mse: 11284.1699\n",
      "Epoch 4/30\n",
      "559/559 [==============================] - 26s 46ms/step - loss: 10748.6006 - mse: 10748.6006 - val_loss: 9311.1621 - val_mse: 9311.1621\n",
      "Epoch 5/30\n",
      "559/559 [==============================] - 22s 39ms/step - loss: 8663.7861 - mse: 8663.7861 - val_loss: 7000.1650 - val_mse: 7000.1650\n",
      "Epoch 6/30\n",
      "559/559 [==============================] - 26s 46ms/step - loss: 7589.7021 - mse: 7589.7021 - val_loss: 7033.9688 - val_mse: 7033.9688\n",
      "Epoch 7/30\n",
      "559/559 [==============================] - 29s 52ms/step - loss: 7232.7158 - mse: 7232.7158 - val_loss: 10408.9150 - val_mse: 10408.9150\n",
      "Epoch 8/30\n",
      "559/559 [==============================] - 35s 62ms/step - loss: 7254.9531 - mse: 7254.9531 - val_loss: 5952.1177 - val_mse: 5952.1177\n",
      "Epoch 9/30\n",
      "559/559 [==============================] - 35s 62ms/step - loss: 7769.3818 - mse: 7769.3818 - val_loss: 6677.7749 - val_mse: 6677.7749\n",
      "Epoch 10/30\n",
      "559/559 [==============================] - 37s 65ms/step - loss: 7549.2051 - mse: 7549.2051 - val_loss: 7115.8086 - val_mse: 7115.8086\n",
      "Epoch 11/30\n",
      "559/559 [==============================] - 31s 56ms/step - loss: 7402.4858 - mse: 7402.4858 - val_loss: 6502.1411 - val_mse: 6502.1411\n",
      "Epoch 12/30\n",
      "559/559 [==============================] - 36s 65ms/step - loss: 7349.6367 - mse: 7349.6367 - val_loss: 7164.7314 - val_mse: 7164.7314\n",
      "Epoch 13/30\n",
      "559/559 [==============================] - 32s 58ms/step - loss: 7051.9194 - mse: 7051.9194 - val_loss: 5798.1445 - val_mse: 5798.1445\n",
      "Epoch 14/30\n",
      "559/559 [==============================] - 30s 53ms/step - loss: 6371.6465 - mse: 6371.6465 - val_loss: 6624.9062 - val_mse: 6624.9062\n",
      "Epoch 15/30\n",
      "559/559 [==============================] - 36s 64ms/step - loss: 6275.1523 - mse: 6275.1523 - val_loss: 4860.9014 - val_mse: 4860.9014\n",
      "Epoch 16/30\n",
      "559/559 [==============================] - 32s 57ms/step - loss: 5850.7949 - mse: 5850.7949 - val_loss: 5021.2139 - val_mse: 5021.2139\n",
      "Epoch 17/30\n",
      "559/559 [==============================] - 30s 54ms/step - loss: 5496.4453 - mse: 5496.4453 - val_loss: 5343.5981 - val_mse: 5343.5981\n",
      "Epoch 18/30\n",
      "559/559 [==============================] - 32s 58ms/step - loss: 5619.5098 - mse: 5619.5098 - val_loss: 4306.1250 - val_mse: 4306.1250\n",
      "Epoch 19/30\n",
      "559/559 [==============================] - 31s 56ms/step - loss: 5276.6689 - mse: 5276.6689 - val_loss: 4056.9216 - val_mse: 4056.9216\n",
      "Epoch 20/30\n",
      "559/559 [==============================] - 30s 54ms/step - loss: 5091.2393 - mse: 5091.2393 - val_loss: 5401.0156 - val_mse: 5401.0156\n",
      "Epoch 21/30\n",
      "559/559 [==============================] - 34s 61ms/step - loss: 4826.3345 - mse: 4826.3345 - val_loss: 4246.0737 - val_mse: 4246.0737\n",
      "Epoch 22/30\n",
      "559/559 [==============================] - 33s 58ms/step - loss: 5019.3506 - mse: 5019.3506 - val_loss: 4106.7559 - val_mse: 4106.7559\n",
      "Epoch 23/30\n",
      "559/559 [==============================] - 29s 52ms/step - loss: 4584.5298 - mse: 4584.5298 - val_loss: 3896.6733 - val_mse: 3896.6733\n",
      "Epoch 24/30\n",
      "559/559 [==============================] - 36s 64ms/step - loss: 5117.8340 - mse: 5117.8340 - val_loss: 3968.2424 - val_mse: 3968.2424\n",
      "Epoch 25/30\n",
      "559/559 [==============================] - 34s 60ms/step - loss: 4098.2988 - mse: 4098.2988 - val_loss: 3328.9346 - val_mse: 3328.9346\n",
      "Epoch 26/30\n",
      "559/559 [==============================] - 30s 54ms/step - loss: 3510.3931 - mse: 3510.3931 - val_loss: 2920.9680 - val_mse: 2920.9680\n",
      "Epoch 27/30\n",
      "559/559 [==============================] - 34s 61ms/step - loss: 2931.5989 - mse: 2931.5989 - val_loss: 2505.7817 - val_mse: 2505.7817\n",
      "Epoch 28/30\n",
      "559/559 [==============================] - 33s 58ms/step - loss: 2427.3071 - mse: 2427.3071 - val_loss: 2288.1335 - val_mse: 2288.1335\n",
      "Epoch 29/30\n",
      "559/559 [==============================] - 28s 50ms/step - loss: 2023.4781 - mse: 2023.4781 - val_loss: 1551.8137 - val_mse: 1551.8137\n",
      "Epoch 30/30\n",
      "559/559 [==============================] - 31s 55ms/step - loss: 1631.2548 - mse: 1631.2548 - val_loss: 1349.8098 - val_mse: 1349.8098\n"
     ]
    }
   ],
   "source": [
    "#LSTM 모델 설계와 학습\n",
    "model=Sequential()\n",
    "model.add(LSTM(units=128, activation='relu', input_shape=x_train[0].shape))\n",
    "model.add(Dense(5))\n",
    "model.compile(loss='mse', optimizer='adam', metrics=['mse'])\n",
    "hist=model.fit(x_train,y_train, epochs=30, batch_size=32, validation_data=(x_test,y_test), verbose=1)"
   ]
  },
  {
   "cell_type": "code",
   "execution_count": 17,
   "id": "d4cd055d",
   "metadata": {},
   "outputs": [
    {
     "name": "stdout",
     "output_type": "stream",
     "text": [
      "손실 함수 1349.809814453125 MSE: 1349.809814453125\n",
      "36.739757953110214\n"
     ]
    }
   ],
   "source": [
    "#LSTM 모델 평가\n",
    "ev=model.evaluate(x_test,y_test, verbose=0)\n",
    "print(\"손실 함수\", ev[0], \"MSE:\",ev[1])\n",
    "print(ev[1] ** 0.5)"
   ]
  },
  {
   "cell_type": "code",
   "execution_count": null,
   "id": "78213f54",
   "metadata": {},
   "outputs": [],
   "source": [
    "# R2 구하기\n",
    "from sklearn.metrics import r2_score\n",
    "r2_y_predict = r2_score(y_test, pred)\n",
    "print(\"R2 : \", r2_y_predict)\n"
   ]
  },
  {
   "cell_type": "code",
   "execution_count": null,
   "id": "d1c3372d",
   "metadata": {},
   "outputs": [],
   "source": [
    "#LSTM 모델로 예측 수행\n",
    "pred=model.predict(x_test)\n",
    "\n",
    "def MAPE(y, pred) : return np.mean(np.abs((y-pred) / y ) * 100)\n",
    "\n",
    "print(\"평균 절댓값 백분율 오차(MAPE)\", MAPE(y_test, pred))"
   ]
  },
  {
   "cell_type": "code",
   "execution_count": null,
   "id": "fdf8e8d9",
   "metadata": {},
   "outputs": [],
   "source": [
    "#학습 곡선\n",
    "plt.rcParams[\"figure.figsize\"] = (14,4)\n",
    "plt.plot(hist.history['mae'])\n",
    "plt.plot(hist.history['val_mae'])\n",
    "plt.title('Model mae')\n",
    "plt.ylabel('mae')\n",
    "plt.xlabel('Epoch')\n",
    "# plt.ylim([120, 800])\n",
    "plt.legend(['Train', 'Validation'],loc='best')\n",
    "plt.grid()\n",
    "plt.show()"
   ]
  },
  {
   "cell_type": "code",
   "execution_count": null,
   "id": "e0f8d967",
   "metadata": {},
   "outputs": [],
   "source": [
    "#예측 결과 시각화\n",
    "plt.rcParams[\"figure.figsize\"] = (20,8)\n",
    "x_range = range(len(y_test))\n",
    "plt.plot(x_range, y_test[x_range], color='red')\n",
    "plt.plot(x_range, pred[x_range], color='blue')\n",
    "plt.legend(['True prices', 'Predicted prices'], loc='best')\n",
    "plt.grid()\n",
    "plt.show()"
   ]
  },
  {
   "cell_type": "code",
   "execution_count": null,
   "id": "f7db2be4",
   "metadata": {},
   "outputs": [],
   "source": [
    "#일부 구간을 확대하여 시각화\n",
    "x_range = range(30,100)\n",
    "plt.rcParams[\"figure.figsize\"] = (20,8)\n",
    "plt.plot(x_range, y_test[x_range], color='red')\n",
    "plt.plot(x_range, pred[x_range], color='blue')\n",
    "plt.legend(['True prices', 'Predicted prices'], loc='best')\n",
    "plt.grid()\n",
    "plt.show()"
   ]
  },
  {
   "cell_type": "code",
   "execution_count": null,
   "id": "38772899",
   "metadata": {},
   "outputs": [],
   "source": []
  }
 ],
 "metadata": {
  "kernelspec": {
   "display_name": "Python 3",
   "language": "python",
   "name": "python3"
  },
  "language_info": {
   "codemirror_mode": {
    "name": "ipython",
    "version": 3
   },
   "file_extension": ".py",
   "mimetype": "text/x-python",
   "name": "python",
   "nbconvert_exporter": "python",
   "pygments_lexer": "ipython3",
   "version": "3.8.8"
  }
 },
 "nbformat": 4,
 "nbformat_minor": 5
}
