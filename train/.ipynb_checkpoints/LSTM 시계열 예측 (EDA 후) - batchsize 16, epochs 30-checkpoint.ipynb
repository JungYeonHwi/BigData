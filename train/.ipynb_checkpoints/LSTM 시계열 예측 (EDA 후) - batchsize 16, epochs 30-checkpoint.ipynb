{
 "cells": [
  {
   "cell_type": "code",
   "execution_count": 2,
   "id": "6ce9064e",
   "metadata": {},
   "outputs": [],
   "source": [
    "import numpy as np\n",
    "import pandas as pd\n",
    "import matplotlib.pyplot as plt\n",
    "\n",
    "# 데이터 읽기\n",
    "f=open(\"C:/Users/wjddu/git/BigData/train/train_ori.csv\", \"r\")\n",
    "dataframe = pd.read_csv(f, header=0)\n"
   ]
  },
  {
   "cell_type": "code",
   "execution_count": null,
   "id": "5dac584f",
   "metadata": {},
   "outputs": [],
   "source": []
  },
  {
   "cell_type": "code",
   "execution_count": 3,
   "id": "3d2b63d4",
   "metadata": {},
   "outputs": [
    {
     "name": "stdout",
     "output_type": "stream",
     "text": [
      "-617.60175 1029.33625\n"
     ]
    }
   ],
   "source": [
    "quantile_25 = np.quantile(dataframe['pow_gen'], 0.25)\n",
    "quantile_75 = np.quantile(dataframe['pow_gen'],0.75)\n",
    "IQR = quantile_75 - quantile_25\n",
    "minimum = quantile_25 - 1.5 * IQR\n",
    "maximum = quantile_75 + 1.5 * IQR\n",
    "print(minimum, maximum)\n",
    "dataframe.drop(dataframe[dataframe.pow_gen >= 1029.33625]. index, inplace = True)"
   ]
  },
  {
   "cell_type": "code",
   "execution_count": 4,
   "id": "a613aad3",
   "metadata": {},
   "outputs": [
    {
     "name": "stdout",
     "output_type": "stream",
     "text": [
      "-19.450000000000003 45.75\n"
     ]
    }
   ],
   "source": [
    "quantile_25 = np.quantile(dataframe['temperature'], 0.25)\n",
    "quantile_75 = np.quantile(dataframe['temperature'],0.75)\n",
    "IQR = quantile_75 - quantile_25\n",
    "minimum = quantile_25 - 1.5 * IQR\n",
    "maximum = quantile_75 + 1.5 * IQR\n",
    "print(minimum, maximum)\n",
    "dataframe.drop(dataframe[dataframe.temperature >= 45.75]. index, inplace = True)"
   ]
  },
  {
   "cell_type": "code",
   "execution_count": 5,
   "id": "3599c1b6",
   "metadata": {},
   "outputs": [
    {
     "name": "stdout",
     "output_type": "stream",
     "text": [
      "-7.5 148.5\n"
     ]
    }
   ],
   "source": [
    "quantile_25 = np.quantile(dataframe['humidity'], 0.25)\n",
    "quantile_75 = np.quantile(dataframe['humidity'],0.75)\n",
    "IQR = quantile_75 - quantile_25\n",
    "minimum = quantile_25 - 1.5 * IQR\n",
    "maximum = quantile_75 + 1.5 * IQR\n",
    "print(minimum, maximum)\n",
    "dataframe.drop(dataframe[dataframe.humidity >= 148.5]. index, inplace = True)"
   ]
  },
  {
   "cell_type": "code",
   "execution_count": 6,
   "id": "2b0a753f",
   "metadata": {},
   "outputs": [
    {
     "name": "stdout",
     "output_type": "stream",
     "text": [
      "-31.150000000000002 46.050000000000004\n"
     ]
    }
   ],
   "source": [
    "quantile_25 = np.quantile(dataframe['dew_point'], 0.25)\n",
    "quantile_75 = np.quantile(dataframe['dew_point'],0.75)\n",
    "IQR = quantile_75 - quantile_25\n",
    "minimum = quantile_25 - 1.5 * IQR\n",
    "maximum = quantile_75 + 1.5 * IQR\n",
    "print(minimum, maximum)\n",
    "dataframe.drop(dataframe[dataframe.dew_point >= 46.050000000000004]. index, inplace = True)"
   ]
  },
  {
   "cell_type": "code",
   "execution_count": 7,
   "id": "7369ddc9",
   "metadata": {},
   "outputs": [
    {
     "name": "stdout",
     "output_type": "stream",
     "text": [
      "-266.667 444.44499999999994\n"
     ]
    }
   ],
   "source": [
    "quantile_25 = np.quantile(dataframe['sol_rad'], 0.25)\n",
    "quantile_75 = np.quantile(dataframe['sol_rad'],0.75)\n",
    "IQR = quantile_75 - quantile_25\n",
    "minimum = quantile_25 - 1.5 * IQR\n",
    "maximum = quantile_75 + 1.5 * IQR\n",
    "print(minimum, maximum)\n",
    "dataframe.drop(dataframe[dataframe.dew_point >= 444.44499999999994]. index, inplace = True)"
   ]
  },
  {
   "cell_type": "code",
   "execution_count": 8,
   "id": "27876540",
   "metadata": {},
   "outputs": [
    {
     "name": "stdout",
     "output_type": "stream",
     "text": [
      "-10.5 17.5\n"
     ]
    }
   ],
   "source": [
    "quantile_25 = np.quantile(dataframe['cloud'], 0.25)\n",
    "quantile_75 = np.quantile(dataframe['cloud'],0.75)\n",
    "IQR = quantile_75 - quantile_25\n",
    "minimum = quantile_25 - 1.5 * IQR\n",
    "maximum = quantile_75 + 1.5 * IQR\n",
    "print(minimum, maximum)\n",
    "dataframe.drop(dataframe[dataframe.dew_point >= 17.5]. index, inplace = True)"
   ]
  },
  {
   "cell_type": "code",
   "execution_count": 9,
   "id": "e75ce866",
   "metadata": {},
   "outputs": [],
   "source": [
    "seq= dataframe[['temperature', 'humidity', 'dew_point', 'sol_rad', 'cloud']].to_numpy()"
   ]
  },
  {
   "cell_type": "code",
   "execution_count": 12,
   "id": "059f045c",
   "metadata": {},
   "outputs": [
    {
     "name": "stdout",
     "output_type": "stream",
     "text": [
      "(25523, 30, 5) (25523, 5)\n"
     ]
    }
   ],
   "source": [
    "#윈도우 단위로 자르는 함수\n",
    "def seq2dataset(seq,window, horizon):\n",
    "    X=[]; Y=[]\n",
    "    for i in range(len(seq)-(window+horizon)+1):\n",
    "        x= seq[i:i+window]\n",
    "        y= seq[i+window+horizon-1]\n",
    "        X.append(x); Y.append(y)\n",
    "    return np.array(X), np.array(Y)\n",
    "\n",
    "# 한 달 정보를 측정하여 다음 날의 정보를 예측\n",
    "w=30\n",
    "h=1\n",
    "\n",
    "X,Y= seq2dataset(seq,w,h)\n",
    "print(X.shape, Y.shape)"
   ]
  },
  {
   "cell_type": "code",
   "execution_count": 16,
   "id": "d8af3e30",
   "metadata": {},
   "outputs": [],
   "source": [
    "from tensorflow.keras.models import Sequential\n",
    "from tensorflow.keras.layers import Dense, LSTM, Dropout\n",
    "\n",
    "#훈련 집합과 테스트 집합으로 분할\n",
    "split = int(len(X)*0.7)\n",
    "x_train= X[0:split]; y_train = Y[0:split]\n",
    "x_test= X[split:]; y_test = Y[split:]"
   ]
  },
  {
   "cell_type": "code",
   "execution_count": 21,
   "id": "68552e95",
   "metadata": {
    "scrolled": true
   },
   "outputs": [
    {
     "name": "stdout",
     "output_type": "stream",
     "text": [
      "Epoch 1/30\n",
      "1117/1117 [==============================] - 53s 35ms/step - loss: 11096.0908 - mse: 11096.0908 - val_loss: 4104.2041 - val_mse: 4104.2041\n",
      "Epoch 2/30\n",
      "1117/1117 [==============================] - 43s 38ms/step - loss: 2839.6597 - mse: 2839.6597 - val_loss: 1629.1859 - val_mse: 1629.1859\n",
      "Epoch 3/30\n",
      "1117/1117 [==============================] - 47s 42ms/step - loss: 1731.6390 - mse: 1731.6390 - val_loss: 1426.0566 - val_mse: 1426.0566\n",
      "Epoch 4/30\n",
      "1117/1117 [==============================] - 58s 52ms/step - loss: 1309.3091 - mse: 1309.3091 - val_loss: 1128.9946 - val_mse: 1128.9946\n",
      "Epoch 5/30\n",
      "1117/1117 [==============================] - 61s 54ms/step - loss: 1130.1323 - mse: 1130.1323 - val_loss: 1006.9812 - val_mse: 1006.9812\n",
      "Epoch 6/30\n",
      "1117/1117 [==============================] - 56s 50ms/step - loss: 1077.5663 - mse: 1077.5663 - val_loss: 940.6151 - val_mse: 940.6151\n",
      "Epoch 7/30\n",
      "1117/1117 [==============================] - 53s 47ms/step - loss: 1017.1913 - mse: 1017.1913 - val_loss: 901.7499 - val_mse: 901.7499\n",
      "Epoch 8/30\n",
      "1117/1117 [==============================] - 57s 51ms/step - loss: 974.8774 - mse: 974.8774 - val_loss: 959.4587 - val_mse: 959.4587\n",
      "Epoch 9/30\n",
      "1117/1117 [==============================] - 51s 46ms/step - loss: 955.8726 - mse: 955.8726 - val_loss: 846.1787 - val_mse: 846.1787\n",
      "Epoch 10/30\n",
      "1117/1117 [==============================] - 55s 49ms/step - loss: 175864.7969 - mse: 175864.7969 - val_loss: 5588.7651 - val_mse: 5588.7651\n",
      "Epoch 11/30\n",
      "1117/1117 [==============================] - 51s 45ms/step - loss: 5193.7681 - mse: 5193.7681 - val_loss: 3244.7839 - val_mse: 3244.7839\n",
      "Epoch 12/30\n",
      "1117/1117 [==============================] - 57s 51ms/step - loss: 3256.7637 - mse: 3256.7637 - val_loss: 3301.8513 - val_mse: 3301.8513\n",
      "Epoch 13/30\n",
      "1117/1117 [==============================] - 49s 44ms/step - loss: 4314.2534 - mse: 4314.2534 - val_loss: 3542.8438 - val_mse: 3542.8438\n",
      "Epoch 14/30\n",
      "1117/1117 [==============================] - 58s 52ms/step - loss: 3105.4153 - mse: 3105.4153 - val_loss: 2259.0356 - val_mse: 2259.0356\n",
      "Epoch 15/30\n",
      "1117/1117 [==============================] - 51s 45ms/step - loss: 2144.2441 - mse: 2144.2441 - val_loss: 1740.7969 - val_mse: 1740.7969\n",
      "Epoch 16/30\n",
      "1117/1117 [==============================] - 55s 49ms/step - loss: 2631.5142 - mse: 2631.5142 - val_loss: 1440.3456 - val_mse: 1440.3456\n",
      "Epoch 17/30\n",
      "1117/1117 [==============================] - 49s 44ms/step - loss: 1245.6235 - mse: 1245.6235 - val_loss: 960.5932 - val_mse: 960.5932\n",
      "Epoch 18/30\n",
      "1117/1117 [==============================] - 42s 37ms/step - loss: 991.3025 - mse: 991.3025 - val_loss: 826.4882 - val_mse: 826.4882\n",
      "Epoch 19/30\n",
      "1117/1117 [==============================] - 44s 39ms/step - loss: 868.5170 - mse: 868.5170 - val_loss: 1217.8104 - val_mse: 1217.8104\n",
      "Epoch 20/30\n",
      "1117/1117 [==============================] - 44s 39ms/step - loss: 918.6885 - mse: 918.6885 - val_loss: 811.8636 - val_mse: 811.8636\n",
      "Epoch 21/30\n",
      "1117/1117 [==============================] - 45s 40ms/step - loss: 4603.5913 - mse: 4603.5913 - val_loss: 32174.0859 - val_mse: 32174.0859\n",
      "Epoch 22/30\n",
      "1117/1117 [==============================] - 44s 39ms/step - loss: 2485997.5000 - mse: 2485997.5000 - val_loss: 6987.9058 - val_mse: 6987.9058\n",
      "Epoch 23/30\n",
      "1117/1117 [==============================] - 38s 34ms/step - loss: 9951.5088 - mse: 9951.5088 - val_loss: 9332.8057 - val_mse: 9332.8057\n",
      "Epoch 24/30\n",
      "1117/1117 [==============================] - 43s 39ms/step - loss: 4340.3599 - mse: 4340.3599 - val_loss: 3652.6589 - val_mse: 3652.6589\n",
      "Epoch 25/30\n",
      "1117/1117 [==============================] - 45s 41ms/step - loss: 292709.1250 - mse: 292709.1250 - val_loss: 36382.1875 - val_mse: 36382.1875\n",
      "Epoch 26/30\n",
      "1117/1117 [==============================] - 47s 42ms/step - loss: 19736.5703 - mse: 19736.5703 - val_loss: 10174.2852 - val_mse: 10174.2852\n",
      "Epoch 27/30\n",
      "1117/1117 [==============================] - 42s 38ms/step - loss: 13278.4619 - mse: 13278.4619 - val_loss: 11974.8955 - val_mse: 11974.8955\n",
      "Epoch 28/30\n",
      "1117/1117 [==============================] - 40s 36ms/step - loss: 12281.9658 - mse: 12281.9658 - val_loss: 13635.4561 - val_mse: 13635.4561\n",
      "Epoch 29/30\n",
      "1117/1117 [==============================] - 46s 41ms/step - loss: 5598794.5000 - mse: 5598794.5000 - val_loss: 11046.0059 - val_mse: 11046.0059\n",
      "Epoch 30/30\n",
      "1117/1117 [==============================] - 43s 38ms/step - loss: 10651.5186 - mse: 10651.5186 - val_loss: 9279.2490 - val_mse: 9279.2490\n"
     ]
    }
   ],
   "source": [
    "#LSTM 모델 설계와 학습\n",
    "model=Sequential()\n",
    "model.add(LSTM(units=128, activation='relu', input_shape=x_train[0].shape))\n",
    "model.add(Dense(5))\n",
    "model.compile(loss='mse', optimizer='adam', metrics=['mse'])\n",
    "hist=model.fit(x_train,y_train, epochs=30, batch_size=16, validation_data=(x_test,y_test), verbose=1)"
   ]
  },
  {
   "cell_type": "code",
   "execution_count": 22,
   "id": "d4cd055d",
   "metadata": {},
   "outputs": [
    {
     "name": "stdout",
     "output_type": "stream",
     "text": [
      "손실 함수 9279.24609375 MSE: 9279.24609375\n",
      "96.32884351921807\n"
     ]
    }
   ],
   "source": [
    "#LSTM 모델 평가\n",
    "ev=model.evaluate(x_test,y_test, verbose=0)\n",
    "print(\"손실 함수\", ev[0], \"MSE:\",ev[1])\n",
    "print(ev[1] ** 0.5)"
   ]
  },
  {
   "cell_type": "code",
   "execution_count": null,
   "id": "e30af407",
   "metadata": {},
   "outputs": [],
   "source": [
    "from sklearn.metrics import mean_squared_error\n",
    "\n",
    "RMSE = mean_squared_error(y_test, pred)**0.5\n",
    "print(RMSE)"
   ]
  },
  {
   "cell_type": "code",
   "execution_count": null,
   "id": "0da151e0",
   "metadata": {},
   "outputs": [],
   "source": [
    "# R2 구하기\n",
    "from sklearn.metrics import r2_score\n",
    "r2_y_predict = r2_score(y_test, pred)\n",
    "print(\"R2 : \", r2_y_predict)\n"
   ]
  },
  {
   "cell_type": "code",
   "execution_count": null,
   "id": "d1c3372d",
   "metadata": {},
   "outputs": [],
   "source": [
    "#LSTM 모델로 예측 수행\n",
    "pred=model.predict(x_test)\n",
    "\n",
    "def MAPE(y, pred) : return np.mean(np.abs((y-pred) / y ) * 100)\n",
    "\n",
    "print(\"평균 절댓값 백분율 오차(MAPE)\", MAPE(y_test, pred))"
   ]
  },
  {
   "cell_type": "code",
   "execution_count": null,
   "id": "fdf8e8d9",
   "metadata": {},
   "outputs": [],
   "source": [
    "#학습 곡선\n",
    "plt.rcParams[\"figure.figsize\"] = (14,4)\n",
    "plt.plot(hist.history['mae'])\n",
    "plt.plot(hist.history['val_mae'])\n",
    "plt.title('Model mae')\n",
    "plt.ylabel('mae')\n",
    "plt.xlabel('Epoch')\n",
    "# plt.ylim([120, 800])\n",
    "plt.legend(['Train', 'Validation'],loc='best')\n",
    "plt.grid()\n",
    "plt.show()"
   ]
  },
  {
   "cell_type": "code",
   "execution_count": null,
   "id": "e0f8d967",
   "metadata": {},
   "outputs": [],
   "source": [
    "#예측 결과 시각화\n",
    "plt.rcParams[\"figure.figsize\"] = (20,8)\n",
    "x_range = range(len(y_test))\n",
    "plt.plot(x_range, y_test[x_range], color='red')\n",
    "plt.plot(x_range, pred[x_range], color='blue')\n",
    "plt.legend(['True prices', 'Predicted prices'], loc='best')\n",
    "plt.grid()\n",
    "plt.show()"
   ]
  },
  {
   "cell_type": "code",
   "execution_count": null,
   "id": "f7db2be4",
   "metadata": {},
   "outputs": [],
   "source": [
    "#일부 구간을 확대하여 시각화\n",
    "x_range = range(30,100)\n",
    "plt.rcParams[\"figure.figsize\"] = (20,8)\n",
    "plt.plot(x_range, y_test[x_range], color='red')\n",
    "plt.plot(x_range, pred[x_range], color='blue')\n",
    "plt.legend(['True prices', 'Predicted prices'], loc='best')\n",
    "plt.grid()\n",
    "plt.show()"
   ]
  },
  {
   "cell_type": "code",
   "execution_count": null,
   "id": "38772899",
   "metadata": {},
   "outputs": [],
   "source": []
  }
 ],
 "metadata": {
  "kernelspec": {
   "display_name": "Python 3",
   "language": "python",
   "name": "python3"
  },
  "language_info": {
   "codemirror_mode": {
    "name": "ipython",
    "version": 3
   },
   "file_extension": ".py",
   "mimetype": "text/x-python",
   "name": "python",
   "nbconvert_exporter": "python",
   "pygments_lexer": "ipython3",
   "version": "3.8.8"
  }
 },
 "nbformat": 4,
 "nbformat_minor": 5
}
