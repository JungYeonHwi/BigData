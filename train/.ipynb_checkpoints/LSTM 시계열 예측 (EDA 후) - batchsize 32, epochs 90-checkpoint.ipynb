{
 "cells": [
  {
   "cell_type": "code",
   "execution_count": 1,
   "id": "01f2fe1e",
   "metadata": {},
   "outputs": [],
   "source": [
    "import numpy as np\n",
    "import pandas as pd\n",
    "import matplotlib.pyplot as plt\n",
    "\n",
    "# 데이터 읽기\n",
    "f=open(\"C:/Users/wjddu/git/BigData/train/train_ori.csv\", \"r\")\n",
    "dataframe = pd.read_csv(f, header=0)\n"
   ]
  },
  {
   "cell_type": "code",
   "execution_count": null,
   "id": "583e8bac",
   "metadata": {},
   "outputs": [],
   "source": []
  },
  {
   "cell_type": "code",
   "execution_count": 2,
   "id": "ac9e0553",
   "metadata": {},
   "outputs": [
    {
     "name": "stdout",
     "output_type": "stream",
     "text": [
      "-617.60175 1029.33625\n"
     ]
    }
   ],
   "source": [
    "quantile_25 = np.quantile(dataframe['pow_gen'], 0.25)\n",
    "quantile_75 = np.quantile(dataframe['pow_gen'],0.75)\n",
    "IQR = quantile_75 - quantile_25\n",
    "minimum = quantile_25 - 1.5 * IQR\n",
    "maximum = quantile_75 + 1.5 * IQR\n",
    "print(minimum, maximum)\n",
    "dataframe.drop(dataframe[dataframe.pow_gen >= 1029.33625]. index, inplace = True)"
   ]
  },
  {
   "cell_type": "code",
   "execution_count": 3,
   "id": "ff7e361c",
   "metadata": {},
   "outputs": [
    {
     "name": "stdout",
     "output_type": "stream",
     "text": [
      "-19.450000000000003 45.75\n"
     ]
    }
   ],
   "source": [
    "quantile_25 = np.quantile(dataframe['temperature'], 0.25)\n",
    "quantile_75 = np.quantile(dataframe['temperature'],0.75)\n",
    "IQR = quantile_75 - quantile_25\n",
    "minimum = quantile_25 - 1.5 * IQR\n",
    "maximum = quantile_75 + 1.5 * IQR\n",
    "print(minimum, maximum)\n",
    "dataframe.drop(dataframe[dataframe.temperature >= 45.75]. index, inplace = True)"
   ]
  },
  {
   "cell_type": "code",
   "execution_count": 4,
   "id": "6baa1b83",
   "metadata": {},
   "outputs": [
    {
     "name": "stdout",
     "output_type": "stream",
     "text": [
      "-7.5 148.5\n"
     ]
    }
   ],
   "source": [
    "quantile_25 = np.quantile(dataframe['humidity'], 0.25)\n",
    "quantile_75 = np.quantile(dataframe['humidity'],0.75)\n",
    "IQR = quantile_75 - quantile_25\n",
    "minimum = quantile_25 - 1.5 * IQR\n",
    "maximum = quantile_75 + 1.5 * IQR\n",
    "print(minimum, maximum)\n",
    "dataframe.drop(dataframe[dataframe.humidity >= 148.5]. index, inplace = True)"
   ]
  },
  {
   "cell_type": "code",
   "execution_count": 5,
   "id": "30a86e65",
   "metadata": {},
   "outputs": [
    {
     "name": "stdout",
     "output_type": "stream",
     "text": [
      "-31.150000000000002 46.050000000000004\n"
     ]
    }
   ],
   "source": [
    "quantile_25 = np.quantile(dataframe['dew_point'], 0.25)\n",
    "quantile_75 = np.quantile(dataframe['dew_point'],0.75)\n",
    "IQR = quantile_75 - quantile_25\n",
    "minimum = quantile_25 - 1.5 * IQR\n",
    "maximum = quantile_75 + 1.5 * IQR\n",
    "print(minimum, maximum)\n",
    "dataframe.drop(dataframe[dataframe.dew_point >= 46.050000000000004]. index, inplace = True)"
   ]
  },
  {
   "cell_type": "code",
   "execution_count": 6,
   "id": "cf2b2adb",
   "metadata": {},
   "outputs": [
    {
     "name": "stdout",
     "output_type": "stream",
     "text": [
      "-266.667 444.44499999999994\n"
     ]
    }
   ],
   "source": [
    "quantile_25 = np.quantile(dataframe['sol_rad'], 0.25)\n",
    "quantile_75 = np.quantile(dataframe['sol_rad'],0.75)\n",
    "IQR = quantile_75 - quantile_25\n",
    "minimum = quantile_25 - 1.5 * IQR\n",
    "maximum = quantile_75 + 1.5 * IQR\n",
    "print(minimum, maximum)\n",
    "dataframe.drop(dataframe[dataframe.dew_point >= 444.44499999999994]. index, inplace = True)"
   ]
  },
  {
   "cell_type": "code",
   "execution_count": 7,
   "id": "9130b549",
   "metadata": {},
   "outputs": [
    {
     "name": "stdout",
     "output_type": "stream",
     "text": [
      "-10.5 17.5\n"
     ]
    }
   ],
   "source": [
    "quantile_25 = np.quantile(dataframe['cloud'], 0.25)\n",
    "quantile_75 = np.quantile(dataframe['cloud'],0.75)\n",
    "IQR = quantile_75 - quantile_25\n",
    "minimum = quantile_25 - 1.5 * IQR\n",
    "maximum = quantile_75 + 1.5 * IQR\n",
    "print(minimum, maximum)\n",
    "dataframe.drop(dataframe[dataframe.dew_point >= 17.5]. index, inplace = True)"
   ]
  },
  {
   "cell_type": "code",
   "execution_count": 8,
   "id": "bdcdc006",
   "metadata": {},
   "outputs": [],
   "source": [
    "seq= dataframe[['temperature', 'humidity', 'dew_point', 'sol_rad', 'cloud']].to_numpy()"
   ]
  },
  {
   "cell_type": "code",
   "execution_count": 9,
   "id": "059f045c",
   "metadata": {},
   "outputs": [
    {
     "name": "stdout",
     "output_type": "stream",
     "text": [
      "(25523, 30, 5) (25523, 5)\n"
     ]
    }
   ],
   "source": [
    "#윈도우 단위로 자르는 함수\n",
    "def seq2dataset(seq,window, horizon):\n",
    "    X=[]; Y=[]\n",
    "    for i in range(len(seq)-(window+horizon)+1):\n",
    "        x= seq[i:i+window]\n",
    "        y= seq[i+window+horizon-1]\n",
    "        X.append(x); Y.append(y)\n",
    "    return np.array(X), np.array(Y)\n",
    "\n",
    "# 한 달 정보를 측정하여 다음 날의 정보를 예측\n",
    "w=30\n",
    "h=1\n",
    "\n",
    "X,Y= seq2dataset(seq,w,h)\n",
    "print(X.shape, Y.shape)"
   ]
  },
  {
   "cell_type": "code",
   "execution_count": 10,
   "id": "d8af3e30",
   "metadata": {},
   "outputs": [],
   "source": [
    "from tensorflow.keras.models import Sequential\n",
    "from tensorflow.keras.layers import Dense, LSTM, Dropout\n",
    "\n",
    "#훈련 집합과 테스트 집합으로 분할\n",
    "split = int(len(X)*0.7)\n",
    "x_train= X[0:split]; y_train = Y[0:split]\n",
    "x_test= X[split:]; y_test = Y[split:]"
   ]
  },
  {
   "cell_type": "code",
   "execution_count": null,
   "id": "68552e95",
   "metadata": {
    "scrolled": true
   },
   "outputs": [
    {
     "name": "stdout",
     "output_type": "stream",
     "text": [
      "Epoch 1/90\n",
      "559/559 [==============================] - 23s 34ms/step - loss: 31413.6895 - mse: 31413.6895 - val_loss: 6298.2217 - val_mse: 6298.2217\n",
      "Epoch 2/90\n",
      "559/559 [==============================] - 19s 33ms/step - loss: 6855.2202 - mse: 6855.2202 - val_loss: 5431.6367 - val_mse: 5431.6367\n",
      "Epoch 3/90\n",
      "559/559 [==============================] - 18s 32ms/step - loss: 5736.0410 - mse: 5736.0410 - val_loss: 3898.1465 - val_mse: 3898.1465\n",
      "Epoch 4/90\n",
      "559/559 [==============================] - 18s 32ms/step - loss: 4435.0801 - mse: 4435.0801 - val_loss: 3583.8816 - val_mse: 3583.8816\n",
      "Epoch 5/90\n",
      "559/559 [==============================] - 18s 32ms/step - loss: 4866.7861 - mse: 4866.7861 - val_loss: 3767.9463 - val_mse: 3767.9463\n",
      "Epoch 6/90\n",
      " 37/559 [>.............................] - ETA: 14s - loss: 3868.7241 - mse: 3868.7241"
     ]
    }
   ],
   "source": [
    "#LSTM 모델 설계와 학습\n",
    "model=Sequential()\n",
    "model.add(LSTM(units=128, activation='relu', input_shape=x_train[0].shape))\n",
    "model.add(Dense(5))\n",
    "model.compile(loss='mse', optimizer='adam', metrics=['mse'])\n",
    "hist=model.fit(x_train,y_train, epochs=90, batch_size=32, validation_data=(x_test,y_test), verbose=1)"
   ]
  },
  {
   "cell_type": "code",
   "execution_count": null,
   "id": "d4cd055d",
   "metadata": {},
   "outputs": [],
   "source": [
    "#LSTM 모델 평가\n",
    "ev=model.evaluate(x_test,y_test, verbose=0)\n",
    "ev\n",
    "# print(\"손실 함수\", ev[0], \"MSE:\",ev[1])\n",
    "# print(ev[1] ** 0.5)"
   ]
  },
  {
   "cell_type": "code",
   "execution_count": null,
   "id": "78213f54",
   "metadata": {},
   "outputs": [],
   "source": [
    "# R2 구하기\n",
    "pred=model.predict(x_test)\n",
    "from sklearn.metrics import r2_score\n",
    "r2_y_predict = r2_score(y_test, pred)\n",
    "print(\"R2 : \", r2_y_predict)"
   ]
  },
  {
   "cell_type": "code",
   "execution_count": null,
   "id": "fdf8e8d9",
   "metadata": {},
   "outputs": [],
   "source": [
    "#학습 곡선\n",
    "plt.rcParams[\"figure.figsize\"] = (10,5)\n",
    "plt.plot(hist.history['mse'])\n",
    "plt.plot(hist.history['val_mse'])\n",
    "plt.title('Model mse')\n",
    "plt.ylabel('mse')\n",
    "plt.xlabel('Epoch')\n",
    "# plt.ylim([120, 800])\n",
    "plt.legend(['Train', 'Validation'],loc='best')\n",
    "plt.grid()\n",
    "plt.show()"
   ]
  },
  {
   "cell_type": "code",
   "execution_count": null,
   "id": "e0f8d967",
   "metadata": {},
   "outputs": [],
   "source": [
    "#예측 결과 시각화\n",
    "plt.rcParams[\"figure.figsize\"] = (20,8)\n",
    "x_range = range(len(y_test))\n",
    "plt.plot(x_range, y_test[x_range], color='red')\n",
    "plt.plot(x_range, pred[x_range], color='blue')\n",
    "plt.legend(['True prices', 'Predicted prices'], loc='best')\n",
    "plt.grid()\n",
    "plt.show()"
   ]
  },
  {
   "cell_type": "code",
   "execution_count": null,
   "id": "f7db2be4",
   "metadata": {},
   "outputs": [],
   "source": [
    "#일부 구간을 확대하여 시각화\n",
    "x_range = range(30,100)\n",
    "plt.rcParams[\"figure.figsize\"] = (20,8)\n",
    "plt.plot(x_range, y_test[x_range], color='red', label=\"true\")\n",
    "plt.plot(x_range, pred[x_range], color='blue', label=\"pred\")\n",
    "plt.legend()\n",
    "plt.grid()\n",
    "plt.show()"
   ]
  },
  {
   "cell_type": "code",
   "execution_count": null,
   "id": "38772899",
   "metadata": {},
   "outputs": [],
   "source": []
  }
 ],
 "metadata": {
  "kernelspec": {
   "display_name": "Python 3",
   "language": "python",
   "name": "python3"
  },
  "language_info": {
   "codemirror_mode": {
    "name": "ipython",
    "version": 3
   },
   "file_extension": ".py",
   "mimetype": "text/x-python",
   "name": "python",
   "nbconvert_exporter": "python",
   "pygments_lexer": "ipython3",
   "version": "3.8.8"
  }
 },
 "nbformat": 4,
 "nbformat_minor": 5
}
